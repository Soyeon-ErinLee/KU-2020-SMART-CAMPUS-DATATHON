{
  "nbformat": 4,
  "nbformat_minor": 0,
  "metadata": {
    "colab": {
      "name": "SSS0727(iot_11_33).ipynb",
      "provenance": [],
      "collapsed_sections": [],
      "include_colab_link": true
    },
    "kernelspec": {
      "name": "python3",
      "display_name": "Python 3"
    }
  },
  "cells": [
    {
      "cell_type": "markdown",
      "metadata": {
        "id": "view-in-github",
        "colab_type": "text"
      },
      "source": [
        "<a href=\"https://colab.research.google.com/github/Soyeon-ErinLee/Machine_Learning/blob/DATATHON/SSSvariable.ipynb\" target=\"_parent\"><img src=\"https://colab.research.google.com/assets/colab-badge.svg\" alt=\"Open In Colab\"/></a>"
      ]
    },
    {
      "cell_type": "code",
      "metadata": {
        "id": "1HN0X76_jCXH",
        "colab_type": "code",
        "colab": {
          "base_uri": "https://localhost:8080/",
          "height": 126
        },
        "outputId": "604fd064-18c4-42ae-a6e1-26c75a834239"
      },
      "source": [
        "from google.colab import drive\n",
        "drive.mount(\"/content/mydrive\")"
      ],
      "execution_count": 1,
      "outputs": [
        {
          "output_type": "stream",
          "text": [
            "Go to this URL in a browser: https://accounts.google.com/o/oauth2/auth?client_id=947318989803-6bn6qk8qdgf4n4g3pfee6491hc0brc4i.apps.googleusercontent.com&redirect_uri=urn%3aietf%3awg%3aoauth%3a2.0%3aoob&response_type=code&scope=email%20https%3a%2f%2fwww.googleapis.com%2fauth%2fdocs.test%20https%3a%2f%2fwww.googleapis.com%2fauth%2fdrive%20https%3a%2f%2fwww.googleapis.com%2fauth%2fdrive.photos.readonly%20https%3a%2f%2fwww.googleapis.com%2fauth%2fpeopleapi.readonly\n",
            "\n",
            "Enter your authorization code:\n",
            "··········\n",
            "Mounted at /content/mydrive\n"
          ],
          "name": "stdout"
        }
      ]
    },
    {
      "cell_type": "code",
      "metadata": {
        "id": "I36HLMJXlBAU",
        "colab_type": "code",
        "colab": {
          "base_uri": "https://localhost:8080/",
          "height": 72
        },
        "outputId": "6dcbc025-3213-4c99-fd26-3bcb23128cc8"
      },
      "source": [
        "import pandas as pd\n",
        "data=pd.read_csv(\"/content/mydrive/Shared drives/2020 KU datathon/data/iot_11_33.txt\",sep=\"|\",header=None)\n",
        "##대표 데이터 셋으로 2020.02.20 오전 9시부터 2020.02.27 오전 8시 59분 까지의 데이터를 사용."
      ],
      "execution_count": 2,
      "outputs": [
        {
          "output_type": "stream",
          "text": [
            "/usr/local/lib/python3.6/dist-packages/IPython/core/interactiveshell.py:2718: DtypeWarning: Columns (10) have mixed types.Specify dtype option on import or set low_memory=False.\n",
            "  interactivity=interactivity, compiler=compiler, result=result)\n"
          ],
          "name": "stderr"
        }
      ]
    },
    {
      "cell_type": "code",
      "metadata": {
        "id": "hQrnA2YYlEqO",
        "colab_type": "code",
        "colab": {
          "base_uri": "https://localhost:8080/",
          "height": 197
        },
        "outputId": "94c359a9-19a0-40a8-f9a3-bce33e56684d"
      },
      "source": [
        "data.head()"
      ],
      "execution_count": null,
      "outputs": [
        {
          "output_type": "execute_result",
          "data": {
            "text/html": [
              "<div>\n",
              "<style scoped>\n",
              "    .dataframe tbody tr th:only-of-type {\n",
              "        vertical-align: middle;\n",
              "    }\n",
              "\n",
              "    .dataframe tbody tr th {\n",
              "        vertical-align: top;\n",
              "    }\n",
              "\n",
              "    .dataframe thead th {\n",
              "        text-align: right;\n",
              "    }\n",
              "</style>\n",
              "<table border=\"1\" class=\"dataframe\">\n",
              "  <thead>\n",
              "    <tr style=\"text-align: right;\">\n",
              "      <th></th>\n",
              "      <th>0</th>\n",
              "      <th>1</th>\n",
              "      <th>2</th>\n",
              "      <th>3</th>\n",
              "      <th>4</th>\n",
              "      <th>5</th>\n",
              "      <th>6</th>\n",
              "      <th>7</th>\n",
              "      <th>8</th>\n",
              "      <th>9</th>\n",
              "      <th>10</th>\n",
              "    </tr>\n",
              "  </thead>\n",
              "  <tbody>\n",
              "    <tr>\n",
              "      <th>0</th>\n",
              "      <td>2020-02-20 09:00:26.77297+09</td>\n",
              "      <td>11520</td>\n",
              "      <td>2020-02-20 09:00:26</td>\n",
              "      <td>0</td>\n",
              "      <td>48</td>\n",
              "      <td>19.809971</td>\n",
              "      <td>30.242950</td>\n",
              "      <td>780</td>\n",
              "      <td>0</td>\n",
              "      <td>0</td>\n",
              "      <td>202</td>\n",
              "    </tr>\n",
              "    <tr>\n",
              "      <th>1</th>\n",
              "      <td>2020-02-20 09:01:26.769207+09</td>\n",
              "      <td>11520</td>\n",
              "      <td>2020-02-20 09:01:26</td>\n",
              "      <td>0</td>\n",
              "      <td>48</td>\n",
              "      <td>19.842146</td>\n",
              "      <td>29.754669</td>\n",
              "      <td>754</td>\n",
              "      <td>0</td>\n",
              "      <td>0</td>\n",
              "      <td>202</td>\n",
              "    </tr>\n",
              "    <tr>\n",
              "      <th>2</th>\n",
              "      <td>2020-02-20 09:02:26.789456+09</td>\n",
              "      <td>11520</td>\n",
              "      <td>2020-02-20 09:02:26</td>\n",
              "      <td>0</td>\n",
              "      <td>48</td>\n",
              "      <td>19.906497</td>\n",
              "      <td>29.541046</td>\n",
              "      <td>756</td>\n",
              "      <td>0</td>\n",
              "      <td>0</td>\n",
              "      <td>202</td>\n",
              "    </tr>\n",
              "    <tr>\n",
              "      <th>3</th>\n",
              "      <td>2020-02-20 09:03:26.77796+09</td>\n",
              "      <td>11520</td>\n",
              "      <td>2020-02-20 09:03:26</td>\n",
              "      <td>0</td>\n",
              "      <td>48</td>\n",
              "      <td>19.960122</td>\n",
              "      <td>29.251129</td>\n",
              "      <td>735</td>\n",
              "      <td>0</td>\n",
              "      <td>0</td>\n",
              "      <td>202</td>\n",
              "    </tr>\n",
              "    <tr>\n",
              "      <th>4</th>\n",
              "      <td>2020-02-20 09:04:26.767587+09</td>\n",
              "      <td>11520</td>\n",
              "      <td>2020-02-20 09:04:26</td>\n",
              "      <td>0</td>\n",
              "      <td>47</td>\n",
              "      <td>20.024473</td>\n",
              "      <td>29.136688</td>\n",
              "      <td>738</td>\n",
              "      <td>0</td>\n",
              "      <td>0</td>\n",
              "      <td>202</td>\n",
              "    </tr>\n",
              "  </tbody>\n",
              "</table>\n",
              "</div>"
            ],
            "text/plain": [
              "                              0      1                    2   ...  8   9    10\n",
              "0   2020-02-20 09:00:26.77297+09  11520  2020-02-20 09:00:26  ...   0   0  202\n",
              "1  2020-02-20 09:01:26.769207+09  11520  2020-02-20 09:01:26  ...   0   0  202\n",
              "2  2020-02-20 09:02:26.789456+09  11520  2020-02-20 09:02:26  ...   0   0  202\n",
              "3   2020-02-20 09:03:26.77796+09  11520  2020-02-20 09:03:26  ...   0   0  202\n",
              "4  2020-02-20 09:04:26.767587+09  11520  2020-02-20 09:04:26  ...   0   0  202\n",
              "\n",
              "[5 rows x 11 columns]"
            ]
          },
          "metadata": {
            "tags": []
          },
          "execution_count": 3
        }
      ]
    },
    {
      "cell_type": "code",
      "metadata": {
        "id": "nyZwIl6njKOs",
        "colab_type": "code",
        "colab": {}
      },
      "source": [
        "data = data.drop([0,1],axis=1)\n",
        "data.columns=['time_stamp_s','fire','dust','temperature','humidity','co2','moving','door','roomid']"
      ],
      "execution_count": 3,
      "outputs": []
    },
    {
      "cell_type": "code",
      "metadata": {
        "id": "xcdg5gOCjRip",
        "colab_type": "code",
        "colab": {}
      },
      "source": [
        "import numpy as np\n",
        "\n",
        "data['roomid']=data['roomid'].astype(str)\n",
        "conditions = [\n",
        "    (data.roomid.str.startswith('2')),\n",
        "    (data.roomid.str.startswith('3')),\n",
        "    (data.roomid.str.startswith('4')),\n",
        "    (data.roomid.str.startswith('5'))]\n",
        "choices = ['floor2', 'floor3', 'floor4','floor5']\n",
        "data['floor'] = np.select(conditions, choices, default='floorB') # floor 변수 생성!"
      ],
      "execution_count": 4,
      "outputs": []
    },
    {
      "cell_type": "code",
      "metadata": {
        "id": "GNd4QtuAjWXF",
        "colab_type": "code",
        "colab": {}
      },
      "source": [
        "# Outlier 제거 \n",
        "# co2: 0<= data.co2<=3000 \n",
        "# dust:  data.dust>=0 & data.dust <800\n",
        "# humidity: data.humidity >= 0\n",
        "# temperature: data.temperature >= 0\n",
        "\n",
        "data = data[(data.co2 <= 3000) & (data.co2 >= 0) & (data.dust>=0) & (data.dust <800) & (data.humidity >= 0) & (data.temperature >= 0)]"
      ],
      "execution_count": 5,
      "outputs": []
    },
    {
      "cell_type": "code",
      "metadata": {
        "id": "1fD-XSeGje5j",
        "colab_type": "code",
        "colab": {}
      },
      "source": [
        "# 쾌적지수\n",
        "# data[\"humid\"] = 9/5*data.temperature-0.55*(1-data.humidity/100)*(9/5*data.temperature-26)+32"
      ],
      "execution_count": null,
      "outputs": []
    },
    {
      "cell_type": "code",
      "metadata": {
        "id": "GCTiM1eGrQ8V",
        "colab_type": "code",
        "colab": {}
      },
      "source": [
        "data['time_stamp_s']=pd.to_datetime(data['time_stamp_s'],infer_datetime_format=True)\n",
        "data0224 = data[data['time_stamp_s'].dt.date.astype(str)=='2020-02-24']"
      ],
      "execution_count": null,
      "outputs": []
    },
    {
      "cell_type": "code",
      "metadata": {
        "id": "_SMcfIj2B2Dk",
        "colab_type": "code",
        "colab": {
          "base_uri": "https://localhost:8080/",
          "height": 104
        },
        "outputId": "7c3b4be7-1dd4-4755-d23c-1f926780cfc2"
      },
      "source": [
        "data0224.temperature.quantile([0.25,0.5,0.75,1])"
      ],
      "execution_count": null,
      "outputs": [
        {
          "output_type": "execute_result",
          "data": {
            "text/plain": [
              "0.25    19.080664\n",
              "0.50    21.214958\n",
              "0.75    24.443213\n",
              "1.00    36.315896\n",
              "Name: temperature, dtype: float64"
            ]
          },
          "metadata": {
            "tags": []
          },
          "execution_count": 8
        }
      ]
    },
    {
      "cell_type": "code",
      "metadata": {
        "id": "DtySAvmiB2QE",
        "colab_type": "code",
        "colab": {
          "base_uri": "https://localhost:8080/",
          "height": 34
        },
        "outputId": "14d5a208-6376-42bf-deb0-fb90553cadd5"
      },
      "source": [
        "data0224.temperature.quantile([0.25,0.5,0.75,1]).values.astype('object')"
      ],
      "execution_count": null,
      "outputs": [
        {
          "output_type": "execute_result",
          "data": {
            "text/plain": [
              "array([19.080664000000002, 21.214958, 24.443213, 36.315896], dtype=object)"
            ]
          },
          "metadata": {
            "tags": []
          },
          "execution_count": 9
        }
      ]
    },
    {
      "cell_type": "code",
      "metadata": {
        "id": "DhDfIoAACF6l",
        "colab_type": "code",
        "colab": {
          "base_uri": "https://localhost:8080/",
          "height": 518
        },
        "outputId": "1cddbb5a-f2ad-43f8-f20f-c3041ac1024f"
      },
      "source": [
        "import seaborn as sns\n",
        "import matplotlib.pyplot as plt\n",
        "import numpy as np\n",
        "plt.figure(figsize=(15,8))\n",
        "sns.kdeplot(data0224['temperature'],shade=True)\n",
        "points = data0224.temperature.quantile([0.25,0.5,0.75]).values.astype('object')\n",
        "colors = ['g', 'c', 'm']\n",
        "for p, c in zip(points, colors):\n",
        "    plt.axvline(p, label='line: {}'.format(p), c = c)\n",
        "plt.text(16, 0.08, \"0%-25%\")\n",
        "plt.text(19.4, 0.08, \"25%-50%\")\n",
        "plt.text(22.2, 0.08, \"50%-75%\")\n",
        "plt.text(28, 0.08, \"75%-100%\")\n",
        "plt.legend()\n",
        "plt.show()"
      ],
      "execution_count": null,
      "outputs": [
        {
          "output_type": "stream",
          "text": [
            "/usr/local/lib/python3.6/dist-packages/statsmodels/tools/_testing.py:19: FutureWarning: pandas.util.testing is deprecated. Use the functions in the public API at pandas.testing instead.\n",
            "  import pandas.util.testing as tm\n"
          ],
          "name": "stderr"
        },
        {
          "output_type": "display_data",
          "data": {
            "image/png": "[encoded data removed]",
            "text/plain": [
              "<Figure size 1080x576 with 1 Axes>"
            ]
          },
          "metadata": {
            "tags": [],
            "needs_background": "light"
          }
        }
      ]
    },
    {
      "cell_type": "code",
      "metadata": {
        "id": "qec_zERPC1XV",
        "colab_type": "code",
        "colab": {
          "base_uri": "https://localhost:8080/",
          "height": 479
        },
        "outputId": "2654543c-7050-4767-c630-9fff296dbcdf"
      },
      "source": [
        "\n",
        "# 오늘 날짜 입력:2020-02-25 값으로 시뮬레이션. \n",
        "data['time_stamp_s']=pd.to_datetime(data['time_stamp_s'],infer_datetime_format=True)\n",
        "date_entry = input('Enter a date in YYYY-MM-DD format')\n",
        "year, month, day = map(int, date_entry.split('-'))\n",
        "\n",
        "# 해당날짜의 *전날* 데이터셋 & 4분위수:\n",
        "daybefore = data[(data.time_stamp_s.dt.year==year) & (data.time_stamp_s.dt.month==month) & (data.time_stamp_s.dt.day==day-1)]\n",
        "#  daybefore.temperature.quantile([0.25,0.5,0.75,1])\n",
        "Q1 = daybefore.temperature.quantile([0.25]).values\n",
        "Q2 = daybefore.temperature.quantile([0.5]).values\n",
        "Q3 = daybefore.temperature.quantile([0.75]).values\n",
        "Q4  = daybefore.temperature.quantile([1]).values\n",
        "\n",
        "# today data!\n",
        "today = data[(data.time_stamp_s.dt.year==year) & (data.time_stamp_s.dt.month==month) & (data.time_stamp_s.dt.day==day)]\n",
        "\n",
        "#co2\n",
        "co2conditions = [\n",
        "              (today.co2 < 350),\n",
        "              (today.co2>=350) & (today.co2<450),\n",
        "              (today.co2>=450) & (today.co2<750),\n",
        "              (today.co2>=750) & (today.co2<1000),\n",
        "              (today.co2 >= 1000)]\n",
        "co2choices= [100,80,60,40,20]\n",
        "\n",
        "\n",
        "#dust\n",
        "dustconditions = [\n",
        "              (today.dust <= 15),\n",
        "              (today.dust>=16) & (today.dust<=50),\n",
        "              (today.dust>=51) & (today.dust<=75),\n",
        "              (today.dust>=76) & (today.dust<=100),\n",
        "              (today.dust >= 101)]\n",
        "dustchoices= [100,80,60,40,20]\n",
        "\n",
        "\n",
        "#humid\n",
        "humidconditions = [\n",
        "              (today.humidity >= 30) & (today.humidity <= 60), \n",
        "              (today.humidity < 30) , (today.humidity > 60)]\n",
        "humidchoices = [100, 50, 50]\n",
        "\n",
        "\n",
        "\n",
        "# temp1 (따뜻함선택) / 정배점 \n",
        "temp1conditions = [ \n",
        "                  (today.temperature.values <= Q1),\n",
        "                  (today.temperature.values >Q1) & (today.temperature.values <= Q2),\n",
        "                  (today.temperature.values >Q2) & (today.temperature.values <= Q3),\n",
        "                  (today.temperature.values >Q3) & (today.temperature.values <= Q4)]\n",
        "temp1choices = [25,50,75,100]\n",
        "\n",
        "\n",
        "# temp2 (시원함선택) / 역배점 \n",
        "temp2conditions = [ \n",
        "                  (today.temperature.values <= Q1),\n",
        "                  (today.temperature.values>Q1) & (today.temperature.values <= Q2),\n",
        "                  (today.temperature.values >Q2) & (today.temperature.values <= Q3),\n",
        "                  (today.temperature.values >Q3) & (today.temperature.values <= Q4)]\n",
        "temp2choices = [100,75,50,25]\n",
        "\n",
        "# today 데이터셋에 각 변수 score 추가:\n",
        "today[\"co2score\"] = np.select(co2conditions, co2choices)\n",
        "today[\"dustscore\"] = np.select(dustconditions, dustchoices)\n",
        "today[\"humidscore\"] = np.select(humidconditions, humidchoices)\n",
        "today[\"temp1score\"] = np.select(temp1conditions, temp1choices)\n",
        "today[\"temp2score\"] = np.select(temp2conditions, temp2choices)\n",
        "\n"
      ],
      "execution_count": 6,
      "outputs": [
        {
          "output_type": "stream",
          "text": [
            "Enter a date in YYYY-MM-DD format2020-02-25\n"
          ],
          "name": "stdout"
        },
        {
          "output_type": "stream",
          "text": [
            "/usr/local/lib/python3.6/dist-packages/ipykernel_launcher.py:64: SettingWithCopyWarning: \n",
            "A value is trying to be set on a copy of a slice from a DataFrame.\n",
            "Try using .loc[row_indexer,col_indexer] = value instead\n",
            "\n",
            "See the caveats in the documentation: https://pandas.pydata.org/pandas-docs/stable/user_guide/indexing.html#returning-a-view-versus-a-copy\n",
            "/usr/local/lib/python3.6/dist-packages/ipykernel_launcher.py:65: SettingWithCopyWarning: \n",
            "A value is trying to be set on a copy of a slice from a DataFrame.\n",
            "Try using .loc[row_indexer,col_indexer] = value instead\n",
            "\n",
            "See the caveats in the documentation: https://pandas.pydata.org/pandas-docs/stable/user_guide/indexing.html#returning-a-view-versus-a-copy\n",
            "/usr/local/lib/python3.6/dist-packages/ipykernel_launcher.py:66: SettingWithCopyWarning: \n",
            "A value is trying to be set on a copy of a slice from a DataFrame.\n",
            "Try using .loc[row_indexer,col_indexer] = value instead\n",
            "\n",
            "See the caveats in the documentation: https://pandas.pydata.org/pandas-docs/stable/user_guide/indexing.html#returning-a-view-versus-a-copy\n",
            "/usr/local/lib/python3.6/dist-packages/ipykernel_launcher.py:67: SettingWithCopyWarning: \n",
            "A value is trying to be set on a copy of a slice from a DataFrame.\n",
            "Try using .loc[row_indexer,col_indexer] = value instead\n",
            "\n",
            "See the caveats in the documentation: https://pandas.pydata.org/pandas-docs/stable/user_guide/indexing.html#returning-a-view-versus-a-copy\n",
            "/usr/local/lib/python3.6/dist-packages/ipykernel_launcher.py:68: SettingWithCopyWarning: \n",
            "A value is trying to be set on a copy of a slice from a DataFrame.\n",
            "Try using .loc[row_indexer,col_indexer] = value instead\n",
            "\n",
            "See the caveats in the documentation: https://pandas.pydata.org/pandas-docs/stable/user_guide/indexing.html#returning-a-view-versus-a-copy\n"
          ],
          "name": "stderr"
        }
      ]
    },
    {
      "cell_type": "code",
      "metadata": {
        "id": "jzbrAhHkEljs",
        "colab_type": "code",
        "colab": {
          "base_uri": "https://localhost:8080/",
          "height": 124
        },
        "outputId": "b183b088-b19e-4c28-af5a-fdfd4ce947a2"
      },
      "source": [
        "#co2check=co2 선택(0,1) dustcheck=미세먼지선택(0,1) temp1check=상대적 따뜻함선택(0,1) temp2check=상대적 시원함선택(0,1) humidcheck=습도 선택(0,1)\n",
        "example={'co2check':'NA','dustcheck':'NA','temp1check':'NA','temp2check':'NA','humidcheck':'NA'}\n",
        "example=pd.DataFrame([{\"co2check\":0,\"dustcheck\":0,\"temp1check\":0,\"temp2check\":0,\"humidcheck\":0}])\n",
        "if [(example['co2check'] == 0) & (example['dustcheck'] == 0) & (example['temp1check'] == 0) & (example['temp2check'] == 0) & (example['humidcheck'] == 0)]:\n",
        "  today[\"totalscore\"] = (today[\"co2score\"] + today[\"dustscore\"] + today[\"temp1score\"] + today[\"humidscore\"])/4 #00000인경우 default\n",
        "elif [(example['co2check'] == 1) & (example['dustcheck'] == 0) & (example['temp1check'] == 0) & (example['temp2check'] == 0) & (example['humidcheck'] == 0)]:\n",
        "  today[\"totalscore\"] = (0.7*today[\"co2score\"] + 0.1*today[\"dustscore\"] + 0.1*today[\"temp1score\"] + 0.1*today[\"humidscore\"])/4 #10000인 경우\n",
        "elif [(example['co2check'] == 0) & (example['dustcheck'] == 1) & (example['temp1check'] == 0) & (example['temp2check'] == 0) & (example['humidcheck'] == 0)]:\n",
        "  today[\"totalscore\"] = (0.1*today[\"co2score\"] + 0.7*today[\"dustscore\"] + 0.1*today[\"temp1score\"] + 0.1*today[\"humidscore\"])/4 #01000인경우\n",
        "elif [(example['co2check'] == 0) & (example['dustcheck'] == 0) & (example['temp1check'] == 1) & (example['temp2check'] == 0) & (example['humidcheck'] == 0)]:\n",
        "  today[\"totalscore\"] = (0.1*today[\"co2score\"] + 0.1*today[\"dustscore\"] + 0.7*today[\"temp1score\"] + 0.1*today[\"humidscore\"])/4 #00100인경우\n",
        "elif [(example['co2check'] == 0) & (example['dustcheck'] == 0) & (example['temp1check'] == 0) & (example['temp2check'] == 1) & (example['humidcheck'] == 0)]:\n",
        "  today[\"totalscore\"] = (0.1*today[\"co2score\"] + 0.1*today[\"dustscore\"] + 0.7*today[\"temp2score\"] + 0.1*today[\"humidscore\"])/4 #00010인경우\n",
        "elif [(example['co2check'] == 0) & (example['dustcheck'] == 0) & (example['temp1check'] == 0) & (example['temp2check'] == 0) & (example['humidcheck'] == 1)]:\n",
        "  today[\"totalscore\"] = (0.1*today[\"co2score\"] + 0.1*today[\"dustscore\"] + 0.1*today[\"temp1score\"] + 0.7*today[\"humidscore\"])/4 #00001인경우\n",
        "elif [(example['co2check'] == 1) & (example['dustcheck'] == 1) & (example['temp1check'] == 0) & (example['temp2check'] == 0) & (example['humidcheck'] == 0)]:\n",
        "  today[\"totalscore\"] = (0.4*today[\"co2score\"] + 0.4*today[\"dustscore\"] + 0.1*today[\"temp1score\"] + 0.1*today[\"humidscore\"])/4 #11000인경우\n",
        "elif [(example['co2check'] == 1) & (example['dustcheck'] == 0) & (example['temp1check'] == 1) & (example['temp2check'] == 0) & (example['humidcheck'] == 0)]:\n",
        "  today[\"totalscore\"] = (0.4*today[\"co2score\"] + 0.1*today[\"dustscore\"] + 0.4*today[\"temp1score\"] + 0.1*today[\"humidscore\"])/4 #10100인경우\n",
        "elif [(example['co2check'] == 1) & (example['dustcheck'] == 0) & (example['temp1check'] == 0) & (example['temp2check'] == 1) & (example['humidcheck'] == 0)]:\n",
        "  today[\"totalscore\"] = (0.4*today[\"co2score\"] + 0.1*today[\"dustscore\"] + 0.4*today[\"temp2score\"] + 0.1*today[\"humidscore\"])/4 #10010인경우\n",
        "elif [(example['co2check'] == 1) & (example['dustcheck'] == 0) & (example['temp1check'] == 0) & (example['temp2check'] == 0) & (example['humidcheck'] == 1)]:\n",
        "  today[\"totalscore\"] = (0.4*today[\"co2score\"] + 0.1*today[\"dustscore\"] + 0.1*today[\"temp1score\"] + 0.4*today[\"humidscore\"])/4 #10001인경우\n",
        "elif [(example['co2check'] == 0) & (example['dustcheck'] == 1) & (example['temp1check'] == 1) & (example['temp2check'] == 0) & (example['humidcheck'] == 0)]:\n",
        "  today[\"totalscore\"] = (0.1*today[\"co2score\"] + 0.4*today[\"dustscore\"] + 0.4*today[\"temp1score\"] + 0.1*today[\"humidscore\"])/4 #01100인경우\n",
        "elif [(example['co2check'] == 0) & (example['dustcheck'] == 1) & (example['temp1check'] == 0) & (example['temp2check'] == 1) & (example['humidcheck'] == 0)]:\n",
        "  today[\"totalscore\"] = (0.1*today[\"co2score\"] + 0.4*today[\"dustscore\"] + 0.4*today[\"temp2score\"] + 0.1*today[\"humidscore\"])/4 #01010인경우\n",
        "elif [(example['co2check'] == 0) & (example['dustcheck'] == 1) & (example['temp1check'] == 0) & (example['temp2check'] == 0) & (example['humidcheck'] == 1)]:\n",
        "  today[\"totalscore\"] = (0.1*today[\"co2score\"] + 0.4*today[\"dustscore\"] + 0.1*today[\"temp1score\"] + 0.4*today[\"humidscore\"])/4 #01001인경우\n",
        "elif [(example['co2check'] == 0) & (example['dustcheck'] == 0) & (example['temp1check'] == 1) & (example['temp2check'] == 0) & (example['humidcheck'] == 1)]:\n",
        "  today[\"totalscore\"] = (0.1*today[\"co2score\"] + 0.1*today[\"dustscore\"] + 0.4*today[\"temp1score\"] + 0.4*today[\"humidscore\"])/4 #00101인 경우\n",
        "elif [(example['co2check'] == 0) & (example['dustcheck'] == 0) & (example['temp1check'] == 0) & (example['temp2check'] == 1) & (example['humidcheck'] == 1)]:\n",
        "  today[\"totalscore\"] = (0.1*today[\"co2score\"] + 0.1*today[\"dustscore\"] + 0.4*today[\"temp2score\"] + 0.4*today[\"humidscore\"])/4 #00011인 경우\n",
        "elif [(example['co2check'] == 1) & (example['dustcheck'] == 1) & (example['temp1check'] == 1) & (example['temp2check'] == 0) & (example['humidcheck'] == 0)]:\n",
        "  today[\"totalscore\"] = (0.3*today[\"co2score\"] + 0.3*today[\"dustscore\"] + 0.3*today[\"temp1score\"] + 0.1*today[\"humidscore\"])/4 #11100인 경우\n",
        "elif [(example['co2check'] == 1) & (example['dustcheck'] == 1) & (example['temp1check'] == 0) & (example['temp2check'] == 1) & (example['humidcheck'] == 0)]:\n",
        "  today[\"totalscore\"] = (0.3*today[\"co2score\"] + 0.3*today[\"dustscore\"] + 0.3*today[\"temp2score\"] + 0.1*today[\"humidscore\"])/4 #11010인 경우\n",
        "elif [(example['co2check'] == 1) & (example['dustcheck'] == 1) & (example['temp1check'] == 0) & (example['temp2check'] == 0) & (example['humidcheck'] == 1)]:\n",
        "  today[\"totalscore\"] = (0.3*today[\"co2score\"] + 0.3*today[\"dustscore\"] + 0.1*today[\"temp1score\"] + 0.3*today[\"humidscore\"])/4 #11001인 경우\n",
        "elif [(example['co2check'] == 1) & (example['dustcheck'] == 0) & (example['temp1check'] == 1) & (example['temp2check'] == 0) & (example['humidcheck'] == 1)]:\n",
        "  today[\"totalscore\"] = (0.3*today[\"co2score\"] + 0.1*today[\"dustscore\"] + 0.3*today[\"temp1score\"] + 0.3*today[\"humidscore\"])/4 #10101인 경우\n",
        "elif [(example['co2check'] == 1) & (example['dustcheck'] == 0) & (example['temp2check'] == 1) & (example['temp2check'] == 0) & (example['humidcheck'] == 1)]:\n",
        "  today[\"totalscore\"] = (0.3*today[\"co2score\"] + 0.1*today[\"dustscore\"] + 0.3*today[\"temp2score\"] + 0.3*today[\"humidscore\"])/4 #10011인 경우\n",
        "elif [(example['co2check'] == 0) & (example['dustcheck'] == 1) & (example['temp1check'] == 1) & (example['temp2check'] == 0) & (example['humidcheck'] == 1)]:\n",
        "  today[\"totalscore\"] = (0.1*today[\"co2score\"] + 0.3*today[\"dustscore\"] + 0.3*today[\"temp1score\"] + 0.3*today[\"humidscore\"])/4 #01101인 경우\n",
        "elif [(example['co2check'] == 0) & (example['dustcheck'] == 1) & (example['temp1check'] == 0) & (example['temp2check'] == 1) & (example['humidcheck'] == 1)]: \n",
        "  today[\"totalscore\"] = (0.1*today[\"co2score\"] + 0.3*today[\"dustscore\"] + 0.3*today[\"temp2score\"] + 0.3*today[\"humidscore\"])/4 #01011인 경우\n",
        "elif [(example['co2check'] == 1) & (example['dustcheck'] == 1) & (example['temp2check'] == 1) & (example['temp2check'] == 0) & (example['humidcheck'] == 1)]:\n",
        "  today[\"totalscore\"] = (today[\"co2score\"] + today[\"dustscore\"] + today[\"temp1score\"] + today[\"humidscore\"])/4 #11101인 경우\n",
        "elif [(example['co2check'] == 1) & (example['dustcheck'] == 0) & (example['temp2check'] == 1) & (example['temp2check'] == 1) & (example['humidcheck'] == 1)]:\n",
        "  today[\"totalscore\"] = (today[\"co2score\"] + today[\"dustscore\"] + today[\"temp2score\"] + today[\"humidscore\"])/4 #11011인 경우"
      ],
      "execution_count": 7,
      "outputs": [
        {
          "output_type": "stream",
          "text": [
            "/usr/local/lib/python3.6/dist-packages/ipykernel_launcher.py:5: SettingWithCopyWarning: \n",
            "A value is trying to be set on a copy of a slice from a DataFrame.\n",
            "Try using .loc[row_indexer,col_indexer] = value instead\n",
            "\n",
            "See the caveats in the documentation: https://pandas.pydata.org/pandas-docs/stable/user_guide/indexing.html#returning-a-view-versus-a-copy\n",
            "  \"\"\"\n"
          ],
          "name": "stderr"
        }
      ]
    },
    {
      "cell_type": "code",
      "metadata": {
        "id": "Sbh0ABcDFBQU",
        "colab_type": "code",
        "colab": {
          "base_uri": "https://localhost:8080/",
          "height": 407
        },
        "outputId": "b94006fc-8ff9-4034-f24b-e6d0f6e6aa6d"
      },
      "source": [
        "today"
      ],
      "execution_count": null,
      "outputs": [
        {
          "output_type": "execute_result",
          "data": {
            "text/html": [
              "<div>\n",
              "<style scoped>\n",
              "    .dataframe tbody tr th:only-of-type {\n",
              "        vertical-align: middle;\n",
              "    }\n",
              "\n",
              "    .dataframe tbody tr th {\n",
              "        vertical-align: top;\n",
              "    }\n",
              "\n",
              "    .dataframe thead th {\n",
              "        text-align: right;\n",
              "    }\n",
              "</style>\n",
              "<table border=\"1\" class=\"dataframe\">\n",
              "  <thead>\n",
              "    <tr style=\"text-align: right;\">\n",
              "      <th></th>\n",
              "      <th>time_stamp_s</th>\n",
              "      <th>fire</th>\n",
              "      <th>dust</th>\n",
              "      <th>temperature</th>\n",
              "      <th>humidity</th>\n",
              "      <th>co2</th>\n",
              "      <th>moving</th>\n",
              "      <th>door</th>\n",
              "      <th>roomid</th>\n",
              "      <th>floor</th>\n",
              "      <th>co2score</th>\n",
              "      <th>dustscore</th>\n",
              "      <th>humidscore</th>\n",
              "      <th>temp1score</th>\n",
              "      <th>temp2score</th>\n",
              "      <th>totalscore</th>\n",
              "    </tr>\n",
              "  </thead>\n",
              "  <tbody>\n",
              "    <tr>\n",
              "      <th>6652</th>\n",
              "      <td>2020-02-25 00:00:29</td>\n",
              "      <td>0</td>\n",
              "      <td>38</td>\n",
              "      <td>21.193508</td>\n",
              "      <td>29.266388</td>\n",
              "      <td>887</td>\n",
              "      <td>0</td>\n",
              "      <td>0</td>\n",
              "      <td>202</td>\n",
              "      <td>floor2</td>\n",
              "      <td>40</td>\n",
              "      <td>80</td>\n",
              "      <td>50</td>\n",
              "      <td>50</td>\n",
              "      <td>75</td>\n",
              "      <td>55.0</td>\n",
              "    </tr>\n",
              "    <tr>\n",
              "      <th>6653</th>\n",
              "      <td>2020-02-25 00:01:29</td>\n",
              "      <td>0</td>\n",
              "      <td>37</td>\n",
              "      <td>21.193508</td>\n",
              "      <td>29.266388</td>\n",
              "      <td>883</td>\n",
              "      <td>0</td>\n",
              "      <td>0</td>\n",
              "      <td>202</td>\n",
              "      <td>floor2</td>\n",
              "      <td>40</td>\n",
              "      <td>80</td>\n",
              "      <td>50</td>\n",
              "      <td>50</td>\n",
              "      <td>75</td>\n",
              "      <td>55.0</td>\n",
              "    </tr>\n",
              "    <tr>\n",
              "      <th>6654</th>\n",
              "      <td>2020-02-25 00:02:29</td>\n",
              "      <td>0</td>\n",
              "      <td>38</td>\n",
              "      <td>21.182783</td>\n",
              "      <td>29.274017</td>\n",
              "      <td>881</td>\n",
              "      <td>0</td>\n",
              "      <td>0</td>\n",
              "      <td>202</td>\n",
              "      <td>floor2</td>\n",
              "      <td>40</td>\n",
              "      <td>80</td>\n",
              "      <td>50</td>\n",
              "      <td>50</td>\n",
              "      <td>75</td>\n",
              "      <td>55.0</td>\n",
              "    </tr>\n",
              "    <tr>\n",
              "      <th>6655</th>\n",
              "      <td>2020-02-25 00:03:29</td>\n",
              "      <td>0</td>\n",
              "      <td>39</td>\n",
              "      <td>21.182783</td>\n",
              "      <td>29.258759</td>\n",
              "      <td>877</td>\n",
              "      <td>0</td>\n",
              "      <td>0</td>\n",
              "      <td>202</td>\n",
              "      <td>floor2</td>\n",
              "      <td>40</td>\n",
              "      <td>80</td>\n",
              "      <td>50</td>\n",
              "      <td>50</td>\n",
              "      <td>75</td>\n",
              "      <td>55.0</td>\n",
              "    </tr>\n",
              "    <tr>\n",
              "      <th>6656</th>\n",
              "      <td>2020-02-25 00:04:29</td>\n",
              "      <td>0</td>\n",
              "      <td>36</td>\n",
              "      <td>21.172058</td>\n",
              "      <td>29.258759</td>\n",
              "      <td>877</td>\n",
              "      <td>0</td>\n",
              "      <td>0</td>\n",
              "      <td>202</td>\n",
              "      <td>floor2</td>\n",
              "      <td>40</td>\n",
              "      <td>80</td>\n",
              "      <td>50</td>\n",
              "      <td>50</td>\n",
              "      <td>75</td>\n",
              "      <td>55.0</td>\n",
              "    </tr>\n",
              "    <tr>\n",
              "      <th>...</th>\n",
              "      <td>...</td>\n",
              "      <td>...</td>\n",
              "      <td>...</td>\n",
              "      <td>...</td>\n",
              "      <td>...</td>\n",
              "      <td>...</td>\n",
              "      <td>...</td>\n",
              "      <td>...</td>\n",
              "      <td>...</td>\n",
              "      <td>...</td>\n",
              "      <td>...</td>\n",
              "      <td>...</td>\n",
              "      <td>...</td>\n",
              "      <td>...</td>\n",
              "      <td>...</td>\n",
              "      <td>...</td>\n",
              "    </tr>\n",
              "    <tr>\n",
              "      <th>2022543</th>\n",
              "      <td>2020-02-25 23:55:29</td>\n",
              "      <td>0</td>\n",
              "      <td>21</td>\n",
              "      <td>19.563293</td>\n",
              "      <td>35.690338</td>\n",
              "      <td>883</td>\n",
              "      <td>0</td>\n",
              "      <td>0</td>\n",
              "      <td>B141</td>\n",
              "      <td>floorB</td>\n",
              "      <td>40</td>\n",
              "      <td>80</td>\n",
              "      <td>100</td>\n",
              "      <td>50</td>\n",
              "      <td>75</td>\n",
              "      <td>67.5</td>\n",
              "    </tr>\n",
              "    <tr>\n",
              "      <th>2022544</th>\n",
              "      <td>2020-02-25 23:56:29</td>\n",
              "      <td>0</td>\n",
              "      <td>20</td>\n",
              "      <td>19.563293</td>\n",
              "      <td>35.667450</td>\n",
              "      <td>869</td>\n",
              "      <td>0</td>\n",
              "      <td>0</td>\n",
              "      <td>B141</td>\n",
              "      <td>floorB</td>\n",
              "      <td>40</td>\n",
              "      <td>80</td>\n",
              "      <td>100</td>\n",
              "      <td>50</td>\n",
              "      <td>75</td>\n",
              "      <td>67.5</td>\n",
              "    </tr>\n",
              "    <tr>\n",
              "      <th>2022545</th>\n",
              "      <td>2020-02-25 23:57:29</td>\n",
              "      <td>0</td>\n",
              "      <td>21</td>\n",
              "      <td>19.552568</td>\n",
              "      <td>35.636932</td>\n",
              "      <td>874</td>\n",
              "      <td>0</td>\n",
              "      <td>0</td>\n",
              "      <td>B141</td>\n",
              "      <td>floorB</td>\n",
              "      <td>40</td>\n",
              "      <td>80</td>\n",
              "      <td>100</td>\n",
              "      <td>50</td>\n",
              "      <td>75</td>\n",
              "      <td>67.5</td>\n",
              "    </tr>\n",
              "    <tr>\n",
              "      <th>2022546</th>\n",
              "      <td>2020-02-25 23:58:29</td>\n",
              "      <td>0</td>\n",
              "      <td>21</td>\n",
              "      <td>19.541843</td>\n",
              "      <td>35.659821</td>\n",
              "      <td>882</td>\n",
              "      <td>0</td>\n",
              "      <td>0</td>\n",
              "      <td>B141</td>\n",
              "      <td>floorB</td>\n",
              "      <td>40</td>\n",
              "      <td>80</td>\n",
              "      <td>100</td>\n",
              "      <td>50</td>\n",
              "      <td>75</td>\n",
              "      <td>67.5</td>\n",
              "    </tr>\n",
              "    <tr>\n",
              "      <th>2022547</th>\n",
              "      <td>2020-02-25 23:59:29</td>\n",
              "      <td>0</td>\n",
              "      <td>22</td>\n",
              "      <td>19.552568</td>\n",
              "      <td>35.667450</td>\n",
              "      <td>886</td>\n",
              "      <td>0</td>\n",
              "      <td>0</td>\n",
              "      <td>B141</td>\n",
              "      <td>floorB</td>\n",
              "      <td>40</td>\n",
              "      <td>80</td>\n",
              "      <td>100</td>\n",
              "      <td>50</td>\n",
              "      <td>75</td>\n",
              "      <td>67.5</td>\n",
              "    </tr>\n",
              "  </tbody>\n",
              "</table>\n",
              "<p>281768 rows × 16 columns</p>\n",
              "</div>"
            ],
            "text/plain": [
              "               time_stamp_s  fire  dust  ...  temp1score  temp2score  totalscore\n",
              "6652    2020-02-25 00:00:29     0    38  ...          50          75        55.0\n",
              "6653    2020-02-25 00:01:29     0    37  ...          50          75        55.0\n",
              "6654    2020-02-25 00:02:29     0    38  ...          50          75        55.0\n",
              "6655    2020-02-25 00:03:29     0    39  ...          50          75        55.0\n",
              "6656    2020-02-25 00:04:29     0    36  ...          50          75        55.0\n",
              "...                     ...   ...   ...  ...         ...         ...         ...\n",
              "2022543 2020-02-25 23:55:29     0    21  ...          50          75        67.5\n",
              "2022544 2020-02-25 23:56:29     0    20  ...          50          75        67.5\n",
              "2022545 2020-02-25 23:57:29     0    21  ...          50          75        67.5\n",
              "2022546 2020-02-25 23:58:29     0    21  ...          50          75        67.5\n",
              "2022547 2020-02-25 23:59:29     0    22  ...          50          75        67.5\n",
              "\n",
              "[281768 rows x 16 columns]"
            ]
          },
          "metadata": {
            "tags": []
          },
          "execution_count": 13
        }
      ]
    },
    {
      "cell_type": "code",
      "metadata": {
        "id": "_E9n0lAAF_UV",
        "colab_type": "code",
        "colab": {
          "base_uri": "https://localhost:8080/",
          "height": 174
        },
        "outputId": "b2f2ce9e-42b1-4726-d601-142501d5b6cf"
      },
      "source": [
        "today.totalscore.describe()"
      ],
      "execution_count": null,
      "outputs": [
        {
          "output_type": "execute_result",
          "data": {
            "text/plain": [
              "count    281768.000000\n",
              "mean         65.175832\n",
              "std           6.785125\n",
              "min          37.500000\n",
              "25%          61.250000\n",
              "50%          66.250000\n",
              "75%          67.500000\n",
              "max          85.000000\n",
              "Name: totalscore, dtype: float64"
            ]
          },
          "metadata": {
            "tags": []
          },
          "execution_count": 14
        }
      ]
    },
    {
      "cell_type": "code",
      "metadata": {
        "id": "CZrp97fbGDR4",
        "colab_type": "code",
        "colab": {}
      },
      "source": [
        "# total score 범위에 따라 SSS지수 분류"
      ],
      "execution_count": null,
      "outputs": []
    },
    {
      "cell_type": "code",
      "metadata": {
        "id": "nU14ZlMT6nru",
        "colab_type": "code",
        "colab": {
          "base_uri": "https://localhost:8080/",
          "height": 708
        },
        "outputId": "bb455994-d902-4971-9d66-2bcc9c928b02"
      },
      "source": [
        "import numpy as np\n",
        "\n",
        "SSSconditions = [\n",
        "                 (today.totalscore > 80) & (today.totalscore <= 100),\n",
        "                 (today.totalscore > 60) & (today.totalscore <= 80),\n",
        "                 (today.totalscore > 40) & (today.totalscore <= 60),\n",
        "                 (today.totalscore > 20) & (today.totalscore <= 40),\n",
        "                 (today.totalscore <= 20)\n",
        "]\n",
        "SSSchoices= [5,4,3,2,1]\n",
        "today[\"SSS\"]= np.select(SSSconditions, SSSchoices)\n",
        "today "
      ],
      "execution_count": 8,
      "outputs": [
        {
          "output_type": "stream",
          "text": [
            "/usr/local/lib/python3.6/dist-packages/ipykernel_launcher.py:11: SettingWithCopyWarning: \n",
            "A value is trying to be set on a copy of a slice from a DataFrame.\n",
            "Try using .loc[row_indexer,col_indexer] = value instead\n",
            "\n",
            "See the caveats in the documentation: https://pandas.pydata.org/pandas-docs/stable/user_guide/indexing.html#returning-a-view-versus-a-copy\n",
            "  # This is added back by InteractiveShellApp.init_path()\n"
          ],
          "name": "stderr"
        },
        {
          "output_type": "execute_result",
          "data": {
            "text/html": [
              "<div>\n",
              "<style scoped>\n",
              "    .dataframe tbody tr th:only-of-type {\n",
              "        vertical-align: middle;\n",
              "    }\n",
              "\n",
              "    .dataframe tbody tr th {\n",
              "        vertical-align: top;\n",
              "    }\n",
              "\n",
              "    .dataframe thead th {\n",
              "        text-align: right;\n",
              "    }\n",
              "</style>\n",
              "<table border=\"1\" class=\"dataframe\">\n",
              "  <thead>\n",
              "    <tr style=\"text-align: right;\">\n",
              "      <th></th>\n",
              "      <th>time_stamp_s</th>\n",
              "      <th>fire</th>\n",
              "      <th>dust</th>\n",
              "      <th>temperature</th>\n",
              "      <th>humidity</th>\n",
              "      <th>co2</th>\n",
              "      <th>moving</th>\n",
              "      <th>door</th>\n",
              "      <th>roomid</th>\n",
              "      <th>floor</th>\n",
              "      <th>co2score</th>\n",
              "      <th>dustscore</th>\n",
              "      <th>humidscore</th>\n",
              "      <th>temp1score</th>\n",
              "      <th>temp2score</th>\n",
              "      <th>totalscore</th>\n",
              "      <th>SSS</th>\n",
              "    </tr>\n",
              "  </thead>\n",
              "  <tbody>\n",
              "    <tr>\n",
              "      <th>6652</th>\n",
              "      <td>2020-02-25 00:00:29</td>\n",
              "      <td>0</td>\n",
              "      <td>38</td>\n",
              "      <td>21.193508</td>\n",
              "      <td>29.266388</td>\n",
              "      <td>887</td>\n",
              "      <td>0</td>\n",
              "      <td>0</td>\n",
              "      <td>202</td>\n",
              "      <td>floor2</td>\n",
              "      <td>40</td>\n",
              "      <td>80</td>\n",
              "      <td>50</td>\n",
              "      <td>50</td>\n",
              "      <td>75</td>\n",
              "      <td>55.0</td>\n",
              "      <td>3</td>\n",
              "    </tr>\n",
              "    <tr>\n",
              "      <th>6653</th>\n",
              "      <td>2020-02-25 00:01:29</td>\n",
              "      <td>0</td>\n",
              "      <td>37</td>\n",
              "      <td>21.193508</td>\n",
              "      <td>29.266388</td>\n",
              "      <td>883</td>\n",
              "      <td>0</td>\n",
              "      <td>0</td>\n",
              "      <td>202</td>\n",
              "      <td>floor2</td>\n",
              "      <td>40</td>\n",
              "      <td>80</td>\n",
              "      <td>50</td>\n",
              "      <td>50</td>\n",
              "      <td>75</td>\n",
              "      <td>55.0</td>\n",
              "      <td>3</td>\n",
              "    </tr>\n",
              "    <tr>\n",
              "      <th>6654</th>\n",
              "      <td>2020-02-25 00:02:29</td>\n",
              "      <td>0</td>\n",
              "      <td>38</td>\n",
              "      <td>21.182783</td>\n",
              "      <td>29.274017</td>\n",
              "      <td>881</td>\n",
              "      <td>0</td>\n",
              "      <td>0</td>\n",
              "      <td>202</td>\n",
              "      <td>floor2</td>\n",
              "      <td>40</td>\n",
              "      <td>80</td>\n",
              "      <td>50</td>\n",
              "      <td>50</td>\n",
              "      <td>75</td>\n",
              "      <td>55.0</td>\n",
              "      <td>3</td>\n",
              "    </tr>\n",
              "    <tr>\n",
              "      <th>6655</th>\n",
              "      <td>2020-02-25 00:03:29</td>\n",
              "      <td>0</td>\n",
              "      <td>39</td>\n",
              "      <td>21.182783</td>\n",
              "      <td>29.258759</td>\n",
              "      <td>877</td>\n",
              "      <td>0</td>\n",
              "      <td>0</td>\n",
              "      <td>202</td>\n",
              "      <td>floor2</td>\n",
              "      <td>40</td>\n",
              "      <td>80</td>\n",
              "      <td>50</td>\n",
              "      <td>50</td>\n",
              "      <td>75</td>\n",
              "      <td>55.0</td>\n",
              "      <td>3</td>\n",
              "    </tr>\n",
              "    <tr>\n",
              "      <th>6656</th>\n",
              "      <td>2020-02-25 00:04:29</td>\n",
              "      <td>0</td>\n",
              "      <td>36</td>\n",
              "      <td>21.172058</td>\n",
              "      <td>29.258759</td>\n",
              "      <td>877</td>\n",
              "      <td>0</td>\n",
              "      <td>0</td>\n",
              "      <td>202</td>\n",
              "      <td>floor2</td>\n",
              "      <td>40</td>\n",
              "      <td>80</td>\n",
              "      <td>50</td>\n",
              "      <td>50</td>\n",
              "      <td>75</td>\n",
              "      <td>55.0</td>\n",
              "      <td>3</td>\n",
              "    </tr>\n",
              "    <tr>\n",
              "      <th>...</th>\n",
              "      <td>...</td>\n",
              "      <td>...</td>\n",
              "      <td>...</td>\n",
              "      <td>...</td>\n",
              "      <td>...</td>\n",
              "      <td>...</td>\n",
              "      <td>...</td>\n",
              "      <td>...</td>\n",
              "      <td>...</td>\n",
              "      <td>...</td>\n",
              "      <td>...</td>\n",
              "      <td>...</td>\n",
              "      <td>...</td>\n",
              "      <td>...</td>\n",
              "      <td>...</td>\n",
              "      <td>...</td>\n",
              "      <td>...</td>\n",
              "    </tr>\n",
              "    <tr>\n",
              "      <th>2022543</th>\n",
              "      <td>2020-02-25 23:55:29</td>\n",
              "      <td>0</td>\n",
              "      <td>21</td>\n",
              "      <td>19.563293</td>\n",
              "      <td>35.690338</td>\n",
              "      <td>883</td>\n",
              "      <td>0</td>\n",
              "      <td>0</td>\n",
              "      <td>B141</td>\n",
              "      <td>floorB</td>\n",
              "      <td>40</td>\n",
              "      <td>80</td>\n",
              "      <td>100</td>\n",
              "      <td>50</td>\n",
              "      <td>75</td>\n",
              "      <td>67.5</td>\n",
              "      <td>4</td>\n",
              "    </tr>\n",
              "    <tr>\n",
              "      <th>2022544</th>\n",
              "      <td>2020-02-25 23:56:29</td>\n",
              "      <td>0</td>\n",
              "      <td>20</td>\n",
              "      <td>19.563293</td>\n",
              "      <td>35.667450</td>\n",
              "      <td>869</td>\n",
              "      <td>0</td>\n",
              "      <td>0</td>\n",
              "      <td>B141</td>\n",
              "      <td>floorB</td>\n",
              "      <td>40</td>\n",
              "      <td>80</td>\n",
              "      <td>100</td>\n",
              "      <td>50</td>\n",
              "      <td>75</td>\n",
              "      <td>67.5</td>\n",
              "      <td>4</td>\n",
              "    </tr>\n",
              "    <tr>\n",
              "      <th>2022545</th>\n",
              "      <td>2020-02-25 23:57:29</td>\n",
              "      <td>0</td>\n",
              "      <td>21</td>\n",
              "      <td>19.552568</td>\n",
              "      <td>35.636932</td>\n",
              "      <td>874</td>\n",
              "      <td>0</td>\n",
              "      <td>0</td>\n",
              "      <td>B141</td>\n",
              "      <td>floorB</td>\n",
              "      <td>40</td>\n",
              "      <td>80</td>\n",
              "      <td>100</td>\n",
              "      <td>50</td>\n",
              "      <td>75</td>\n",
              "      <td>67.5</td>\n",
              "      <td>4</td>\n",
              "    </tr>\n",
              "    <tr>\n",
              "      <th>2022546</th>\n",
              "      <td>2020-02-25 23:58:29</td>\n",
              "      <td>0</td>\n",
              "      <td>21</td>\n",
              "      <td>19.541843</td>\n",
              "      <td>35.659821</td>\n",
              "      <td>882</td>\n",
              "      <td>0</td>\n",
              "      <td>0</td>\n",
              "      <td>B141</td>\n",
              "      <td>floorB</td>\n",
              "      <td>40</td>\n",
              "      <td>80</td>\n",
              "      <td>100</td>\n",
              "      <td>50</td>\n",
              "      <td>75</td>\n",
              "      <td>67.5</td>\n",
              "      <td>4</td>\n",
              "    </tr>\n",
              "    <tr>\n",
              "      <th>2022547</th>\n",
              "      <td>2020-02-25 23:59:29</td>\n",
              "      <td>0</td>\n",
              "      <td>22</td>\n",
              "      <td>19.552568</td>\n",
              "      <td>35.667450</td>\n",
              "      <td>886</td>\n",
              "      <td>0</td>\n",
              "      <td>0</td>\n",
              "      <td>B141</td>\n",
              "      <td>floorB</td>\n",
              "      <td>40</td>\n",
              "      <td>80</td>\n",
              "      <td>100</td>\n",
              "      <td>50</td>\n",
              "      <td>75</td>\n",
              "      <td>67.5</td>\n",
              "      <td>4</td>\n",
              "    </tr>\n",
              "  </tbody>\n",
              "</table>\n",
              "<p>281768 rows × 17 columns</p>\n",
              "</div>"
            ],
            "text/plain": [
              "               time_stamp_s  fire  dust  ...  temp2score  totalscore  SSS\n",
              "6652    2020-02-25 00:00:29     0    38  ...          75        55.0    3\n",
              "6653    2020-02-25 00:01:29     0    37  ...          75        55.0    3\n",
              "6654    2020-02-25 00:02:29     0    38  ...          75        55.0    3\n",
              "6655    2020-02-25 00:03:29     0    39  ...          75        55.0    3\n",
              "6656    2020-02-25 00:04:29     0    36  ...          75        55.0    3\n",
              "...                     ...   ...   ...  ...         ...         ...  ...\n",
              "2022543 2020-02-25 23:55:29     0    21  ...          75        67.5    4\n",
              "2022544 2020-02-25 23:56:29     0    20  ...          75        67.5    4\n",
              "2022545 2020-02-25 23:57:29     0    21  ...          75        67.5    4\n",
              "2022546 2020-02-25 23:58:29     0    21  ...          75        67.5    4\n",
              "2022547 2020-02-25 23:59:29     0    22  ...          75        67.5    4\n",
              "\n",
              "[281768 rows x 17 columns]"
            ]
          },
          "metadata": {
            "tags": []
          },
          "execution_count": 8
        }
      ]
    },
    {
      "cell_type": "code",
      "metadata": {
        "id": "j8tNwMEC_-R3",
        "colab_type": "code",
        "colab": {
          "base_uri": "https://localhost:8080/",
          "height": 177
        },
        "outputId": "e4bd97c2-f017-4987-e045-5a9b063b0976"
      },
      "source": [
        "today.SSS.describe()"
      ],
      "execution_count": 10,
      "outputs": [
        {
          "output_type": "execute_result",
          "data": {
            "text/plain": [
              "count    281768.000000\n",
              "mean          3.848120\n",
              "std           0.364489\n",
              "min           2.000000\n",
              "25%           4.000000\n",
              "50%           4.000000\n",
              "75%           4.000000\n",
              "max           5.000000\n",
              "Name: SSS, dtype: float64"
            ]
          },
          "metadata": {
            "tags": []
          },
          "execution_count": 10
        }
      ]
    },
    {
      "cell_type": "code",
      "metadata": {
        "id": "ApT75HTw4lRP",
        "colab_type": "code",
        "colab": {}
      },
      "source": [
        ""
      ],
      "execution_count": null,
      "outputs": []
    }
  ]
}