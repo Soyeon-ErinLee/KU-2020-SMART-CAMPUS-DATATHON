{
 "cells": [
  {
   "cell_type": "code",
   "execution_count": 1,
   "metadata": {},
   "outputs": [],
   "source": [
    "import warnings\n",
    "warnings.filterwarnings(\"ignore\")\n",
    "import pandas as pd\n",
    "import numpy as np\n",
    "import matplotlib.pyplot as plt\n",
    "%matplotlib inline\n",
    "import matplotlib.cm as cm\n",
    "from random import seed,sample\n",
    "from sklearn.model_selection import train_test_split\n",
    "from sklearn.preprocessing import StandardScaler\n",
    "from sklearn.neural_network import MLPClassifier\n",
    "from sklearn.metrics import classification_report,confusion_matrix,accuracy_score, roc_curve, auc,\\\n",
    "precision_score\n",
    "from sklearn.ensemble import RandomForestClassifier\n",
    "from xgboost.sklearn import XGBClassifier\n",
    "from sklearn import metrics"
   ]
  },
  {
   "cell_type": "code",
   "execution_count": 2,
   "metadata": {},
   "outputs": [],
   "source": [
    "data = pd.read_csv(\"fraud.csv\")"
   ]
  },
  {
   "cell_type": "code",
   "execution_count": 3,
   "metadata": {},
   "outputs": [],
   "source": [
    "df = data.rename(columns={'oldbalanceOrg':'oldBalanceOrig', 'newbalanceOrig':'newBalanceOrig', \\\n",
    "                        'oldbalanceDest':'oldBalanceDest', 'newbalanceDest':'newBalanceDest'})"
   ]
  },
  {
   "cell_type": "code",
   "execution_count": 4,
   "metadata": {},
   "outputs": [],
   "source": [
    "df.drop(['nameOrig','nameDest','isFlaggedFraud'], axis=1, inplace=True)\n",
    "df = df.reset_index(drop=True)"
   ]
  },
  {
   "cell_type": "code",
   "execution_count": 5,
   "metadata": {},
   "outputs": [],
   "source": [
    "df_new = df[(df[\"type\"] == \"CASH_OUT\") | (df[\"type\"] == \"TRANSFER\")]"
   ]
  },
  {
   "cell_type": "code",
   "execution_count": 6,
   "metadata": {},
   "outputs": [],
   "source": [
    "df_pca=pd.get_dummies(df_new, columns=[\"type\"])"
   ]
  },
  {
   "cell_type": "code",
   "execution_count": 7,
   "metadata": {},
   "outputs": [],
   "source": [
    "df_pca = df_pca[[\"step\", \"amount\",\"oldBalanceOrig\",\"newBalanceOrig\",\"oldBalanceDest\",\"newBalanceDest\",\"type_CASH_OUT\",\"type_TRANSFER\",\"isFraud\"]]"
   ]
  },
  {
   "cell_type": "code",
   "execution_count": 8,
   "metadata": {},
   "outputs": [],
   "source": [
    "from sklearn.model_selection import train_test_split\n",
    "X,y=df_pca.iloc[:,:7].values, df_pca.iloc[:,8].values\n",
    "X_train,X_test,y_train,y_test=train_test_split(X,y,test_size=0.3, random_state=42,stratify=y)\n",
    "from sklearn.preprocessing import StandardScaler\n",
    "std=StandardScaler()\n",
    "X_train_std=std.fit_transform(X_train)\n",
    "X_test_std=std.transform(X_test)"
   ]
  },
  {
   "cell_type": "code",
   "execution_count": 10,
   "metadata": {},
   "outputs": [],
   "source": [
    "from sklearn import tree\n",
    "dtc = tree.DecisionTreeClassifier(criterion='gini', max_depth=3, random_state=1)\n",
    "dtc.fit(X_train, y_train)\n",
    "y_train_pred = dtc.predict(X_train)  \n",
    "y_test_pred = dtc.predict(X_test) "
   ]
  },
  {
   "cell_type": "code",
   "execution_count": 11,
   "metadata": {},
   "outputs": [
    {
     "data": {
      "text/plain": [
       "[Text(167.4, 190.26, 'X[2] <= 1280973.375\\nentropy = 0.006\\nsamples = 1939286\\nvalue = [1933537, 5749]'),\n",
       " Text(83.7, 135.9, 'X[5] <= 0.695\\nentropy = 0.004\\nsamples = 1936278\\nvalue = [1932167, 4111]'),\n",
       " Text(41.85, 81.53999999999999, 'X[6] <= 0.5\\nentropy = 0.308\\nsamples = 10643\\nvalue = [8623, 2020]'),\n",
       " Text(20.925, 27.180000000000007, 'entropy = 0.398\\nsamples = 2760\\nvalue = [756, 2004]'),\n",
       " Text(62.775000000000006, 27.180000000000007, 'entropy = 0.004\\nsamples = 7883\\nvalue = [7867, 16]'),\n",
       " Text(125.55000000000001, 81.53999999999999, 'X[0] <= 718.5\\nentropy = 0.002\\nsamples = 1925635\\nvalue = [1923544, 2091]'),\n",
       " Text(104.625, 27.180000000000007, 'entropy = 0.002\\nsamples = 1925557\\nvalue = [1923544, 2013]'),\n",
       " Text(146.475, 27.180000000000007, 'entropy = 0.0\\nsamples = 78\\nvalue = [0, 78]'),\n",
       " Text(251.10000000000002, 135.9, 'X[1] <= 1280205.875\\nentropy = 0.496\\nsamples = 3008\\nvalue = [1370, 1638]'),\n",
       " Text(209.25, 81.53999999999999, 'X[3] <= 447318.156\\nentropy = 0.002\\nsamples = 1303\\nvalue = [1302, 1]'),\n",
       " Text(188.32500000000002, 27.180000000000007, 'entropy = 0.111\\nsamples = 17\\nvalue = [16, 1]'),\n",
       " Text(230.175, 27.180000000000007, 'entropy = 0.0\\nsamples = 1286\\nvalue = [1286, 0]'),\n",
       " Text(292.95, 81.53999999999999, 'X[0] <= 13.5\\nentropy = 0.077\\nsamples = 1705\\nvalue = [68, 1637]'),\n",
       " Text(272.02500000000003, 27.180000000000007, 'entropy = 0.331\\nsamples = 67\\nvalue = [53, 14]'),\n",
       " Text(313.875, 27.180000000000007, 'entropy = 0.018\\nsamples = 1638\\nvalue = [15, 1623]')]"
      ]
     },
     "execution_count": 11,
     "metadata": {},
     "output_type": "execute_result"
    },
    {
     "data": {
      "image/png": "[encoded data removed]",
      "text/plain": [
       "<Figure size 432x288 with 1 Axes>"
      ]
     },
     "metadata": {
      "needs_background": "light"
     },
     "output_type": "display_data"
    }
   ],
   "source": [
    "tree.plot_tree(dtc.fit(X_train,y_train))"
   ]
  },
  {
   "cell_type": "code",
   "execution_count": 12,
   "metadata": {},
   "outputs": [
    {
     "name": "stdout",
     "output_type": "stream",
     "text": [
      "Decision Tree Accuracy 0.9985484348363264 0.998541732090196\n",
      "[[828304    355]\n",
      " [   857   1607]]\n"
     ]
    }
   ],
   "source": [
    "print(\"Decision Tree Accuracy\",accuracy_score(y_train, y_train_pred),accuracy_score(y_test, y_test_pred))\n",
    "print(metrics.confusion_matrix(y_test, y_test_pred))"
   ]
  },
  {
   "cell_type": "code",
   "execution_count": null,
   "metadata": {},
   "outputs": [],
   "source": []
  },
  {
   "cell_type": "code",
   "execution_count": null,
   "metadata": {},
   "outputs": [],
   "source": []
  }
 ],
 "metadata": {
  "kernelspec": {
   "display_name": "Python 3",
   "language": "python",
   "name": "python3"
  },
  "language_info": {
   "codemirror_mode": {
    "name": "ipython",
    "version": 3
   },
   "file_extension": ".py",
   "mimetype": "text/x-python",
   "name": "python",
   "nbconvert_exporter": "python",
   "pygments_lexer": "ipython3",
   "version": "3.7.3"
  }
 },
 "nbformat": 4,
 "nbformat_minor": 2
}
