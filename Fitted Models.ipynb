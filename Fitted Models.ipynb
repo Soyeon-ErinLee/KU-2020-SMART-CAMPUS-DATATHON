{
 "cells": [
  {
   "cell_type": "code",
   "execution_count": 1,
   "metadata": {},
   "outputs": [],
   "source": [
    "import warnings\n",
    "warnings.filterwarnings(\"ignore\")\n",
    "import pandas as pd\n",
    "import numpy as np\n",
    "import matplotlib.pyplot as plt\n",
    "%matplotlib inline\n",
    "import matplotlib.cm as cm\n",
    "from random import seed,sample\n",
    "from sklearn.model_selection import train_test_split\n",
    "from sklearn.preprocessing import StandardScaler\n",
    "from sklearn.neural_network import MLPClassifier\n",
    "from sklearn.metrics import classification_report,confusion_matrix,accuracy_score, roc_curve, auc,\\\n",
    "precision_score\n",
    "from sklearn.ensemble import RandomForestClassifier\n",
    "from xgboost.sklearn import XGBClassifier\n",
    "from sklearn import metrics"
   ]
  },
  {
   "cell_type": "code",
   "execution_count": 2,
   "metadata": {},
   "outputs": [],
   "source": [
    "data = pd.read_csv(\"fraud.csv\")"
   ]
  },
  {
   "cell_type": "code",
   "execution_count": 3,
   "metadata": {},
   "outputs": [],
   "source": [
    "df = data.rename(columns={'oldbalanceOrg':'oldBalanceOrig', 'newbalanceOrig':'newBalanceOrig', \\\n",
    "                        'oldbalanceDest':'oldBalanceDest', 'newbalanceDest':'newBalanceDest'})"
   ]
  },
  {
   "cell_type": "code",
   "execution_count": 4,
   "metadata": {},
   "outputs": [],
   "source": [
    "df.drop(['nameOrig','nameDest','isFlaggedFraud'], axis=1, inplace=True)\n",
    "df = df.reset_index(drop=True)"
   ]
  },
  {
   "cell_type": "code",
   "execution_count": 6,
   "metadata": {},
   "outputs": [],
   "source": [
    "df_new = df[(df[\"type\"] == \"CASH_OUT\") | (df[\"type\"] == \"TRANSFER\")]"
   ]
  },
  {
   "cell_type": "code",
   "execution_count": 7,
   "metadata": {},
   "outputs": [],
   "source": [
    "df_new[\"type\"]=df_new[\"type\"].astype('category')"
   ]
  },
  {
   "cell_type": "code",
   "execution_count": 8,
   "metadata": {},
   "outputs": [
    {
     "data": {
      "text/html": [
       "<div>\n",
       "<style scoped>\n",
       "    .dataframe tbody tr th:only-of-type {\n",
       "        vertical-align: middle;\n",
       "    }\n",
       "\n",
       "    .dataframe tbody tr th {\n",
       "        vertical-align: top;\n",
       "    }\n",
       "\n",
       "    .dataframe thead th {\n",
       "        text-align: right;\n",
       "    }\n",
       "</style>\n",
       "<table border=\"1\" class=\"dataframe\">\n",
       "  <thead>\n",
       "    <tr style=\"text-align: right;\">\n",
       "      <th></th>\n",
       "      <th>step</th>\n",
       "      <th>type</th>\n",
       "      <th>amount</th>\n",
       "      <th>oldBalanceOrig</th>\n",
       "      <th>newBalanceOrig</th>\n",
       "      <th>oldBalanceDest</th>\n",
       "      <th>newBalanceDest</th>\n",
       "      <th>isFraud</th>\n",
       "    </tr>\n",
       "  </thead>\n",
       "  <tbody>\n",
       "    <tr>\n",
       "      <th>2</th>\n",
       "      <td>1</td>\n",
       "      <td>TRANSFER</td>\n",
       "      <td>181.0</td>\n",
       "      <td>181.0</td>\n",
       "      <td>0.0</td>\n",
       "      <td>0.0</td>\n",
       "      <td>0.0</td>\n",
       "      <td>1</td>\n",
       "    </tr>\n",
       "  </tbody>\n",
       "</table>\n",
       "</div>"
      ],
      "text/plain": [
       "   step      type  amount  oldBalanceOrig  newBalanceOrig  oldBalanceDest  \\\n",
       "2     1  TRANSFER   181.0           181.0             0.0             0.0   \n",
       "\n",
       "   newBalanceDest  isFraud  \n",
       "2             0.0        1  "
      ]
     },
     "execution_count": 8,
     "metadata": {},
     "output_type": "execute_result"
    }
   ],
   "source": [
    "df_new.head(1)"
   ]
  },
  {
   "cell_type": "code",
   "execution_count": 9,
   "metadata": {},
   "outputs": [],
   "source": [
    "df_pca=pd.get_dummies(df_new, columns=[\"type\"])"
   ]
  },
  {
   "cell_type": "code",
   "execution_count": 9,
   "metadata": {},
   "outputs": [],
   "source": [
    "df_pca = df_pca[[\"step\", \"amount\",\"oldBalanceOrig\",\"newBalanceOrig\",\"oldBalanceDest\",\"newBalanceDest\",\"type_CASH_OUT\",\"type_TRANSFER\",\"isFraud\"]]"
   ]
  },
  {
   "cell_type": "code",
   "execution_count": 10,
   "metadata": {},
   "outputs": [
    {
     "data": {
      "text/html": [
       "<div>\n",
       "<style scoped>\n",
       "    .dataframe tbody tr th:only-of-type {\n",
       "        vertical-align: middle;\n",
       "    }\n",
       "\n",
       "    .dataframe tbody tr th {\n",
       "        vertical-align: top;\n",
       "    }\n",
       "\n",
       "    .dataframe thead th {\n",
       "        text-align: right;\n",
       "    }\n",
       "</style>\n",
       "<table border=\"1\" class=\"dataframe\">\n",
       "  <thead>\n",
       "    <tr style=\"text-align: right;\">\n",
       "      <th></th>\n",
       "      <th>step</th>\n",
       "      <th>amount</th>\n",
       "      <th>oldBalanceOrig</th>\n",
       "      <th>newBalanceOrig</th>\n",
       "      <th>oldBalanceDest</th>\n",
       "      <th>newBalanceDest</th>\n",
       "      <th>isFraud</th>\n",
       "      <th>type_CASH_OUT</th>\n",
       "      <th>type_TRANSFER</th>\n",
       "    </tr>\n",
       "  </thead>\n",
       "  <tbody>\n",
       "    <tr>\n",
       "      <th>2</th>\n",
       "      <td>1</td>\n",
       "      <td>181.0</td>\n",
       "      <td>181.0</td>\n",
       "      <td>0.0</td>\n",
       "      <td>0.0</td>\n",
       "      <td>0.0</td>\n",
       "      <td>1</td>\n",
       "      <td>0</td>\n",
       "      <td>1</td>\n",
       "    </tr>\n",
       "  </tbody>\n",
       "</table>\n",
       "</div>"
      ],
      "text/plain": [
       "   step  amount  oldBalanceOrig  newBalanceOrig  oldBalanceDest  \\\n",
       "2     1   181.0           181.0             0.0             0.0   \n",
       "\n",
       "   newBalanceDest  isFraud  type_CASH_OUT  type_TRANSFER  \n",
       "2             0.0        1              0              1  "
      ]
     },
     "execution_count": 10,
     "metadata": {},
     "output_type": "execute_result"
    }
   ],
   "source": [
    "df_pca.head(1)"
   ]
  },
  {
   "cell_type": "code",
   "execution_count": 11,
   "metadata": {},
   "outputs": [],
   "source": [
    "from sklearn.model_selection import train_test_split\n",
    "X,y=df_pca.iloc[:,:7].values, df_pca.iloc[:,8].values\n",
    "X_train,X_test,y_train,y_test=train_test_split(X,y,test_size=0.3, random_state=42,stratify=y)\n",
    "from sklearn.preprocessing import StandardScaler\n",
    "std=StandardScaler()\n",
    "X_train_std=std.fit_transform(X_train)\n",
    "X_test_std=std.transform(X_test)"
   ]
  },
  {
   "cell_type": "code",
   "execution_count": 12,
   "metadata": {},
   "outputs": [
    {
     "name": "stdout",
     "output_type": "stream",
     "text": [
      "Eigenvalues \n",
      "[2.24245668 1.88655297 0.00807907 0.16900238 1.0310232  0.92767838\n",
      " 0.73521093]\n"
     ]
    }
   ],
   "source": [
    "import numpy as np\n",
    "scov=np.cov(X_train_std.T)\n",
    "eigen_vals, eigen_vecs=np.linalg.eig(scov)\n",
    "print('Eigenvalues \\n%s' %eigen_vals)"
   ]
  },
  {
   "cell_type": "code",
   "execution_count": 13,
   "metadata": {},
   "outputs": [
    {
     "data": {
      "image/png": "[encoded data removed]",
      "text/plain": [
       "<Figure size 432x288 with 1 Axes>"
      ]
     },
     "metadata": {
      "needs_background": "light"
     },
     "output_type": "display_data"
    }
   ],
   "source": [
    "tot = sum(eigen_vals)\n",
    "var_exp = [(i / tot) for i in sorted(eigen_vals, reverse=True)]\n",
    "cum_var_exp = np.cumsum(var_exp)\n",
    "\n",
    "import matplotlib.pyplot as plt\n",
    "plt.bar(range(0,7), var_exp, alpha=0.5, align='center',label='individual explained variance')\n",
    "plt.step(range(0,7), cum_var_exp, where='mid',label='cumulative explained variance')\n",
    "plt.ylabel('Explained variance ratio')\n",
    "plt.xlabel('Principal component index')\n",
    "plt.legend(loc='best')\n",
    "plt.show()"
   ]
  },
  {
   "cell_type": "code",
   "execution_count": 14,
   "metadata": {},
   "outputs": [],
   "source": [
    "from sklearn.decomposition import PCA\n",
    "lpca = PCA(n_components=3)\n",
    "X_train_pca = lpca.fit_transform(X_train_std)\n",
    "X_test_pca = lpca.transform(X_test_std)"
   ]
  },
  {
   "cell_type": "code",
   "execution_count": 15,
   "metadata": {
    "scrolled": true
   },
   "outputs": [
    {
     "name": "stdout",
     "output_type": "stream",
     "text": [
      "[[ 0.05233961  0.42687387  0.04830784  0.02245872  0.61808006  0.65522869\n",
      "   0.02921684]\n",
      " [ 0.01130225  0.07115456  0.69234221  0.63036957 -0.07509974 -0.06374913\n",
      "   0.32924434]\n",
      " [-0.81488323 -0.08455028  0.04397214  0.25372496  0.07716217  0.05788773\n",
      "  -0.50319149]]\n",
      "[0.32035079 0.26950743 0.14728895]\n"
     ]
    }
   ],
   "source": [
    "print(lpca.components_)\n",
    "print(lpca.explained_variance_ratio_)"
   ]
  },
  {
   "cell_type": "code",
   "execution_count": 16,
   "metadata": {},
   "outputs": [],
   "source": [
    "from sklearn.linear_model import LogisticRegression\n",
    "lr=LogisticRegression()\n",
    "lr.fit(X_train_pca, y_train)\n",
    "y_train_pre=lr.predict(X_train_pca)\n",
    "y_test_pre=lr.predict(X_test_pca)"
   ]
  },
  {
   "cell_type": "code",
   "execution_count": 17,
   "metadata": {
    "scrolled": true
   },
   "outputs": [
    {
     "name": "stdout",
     "output_type": "stream",
     "text": [
      "PCA-Logistic Regression Accuracy 0.8094757555100176 0.8092231835721067\n"
     ]
    }
   ],
   "source": [
    "print(\"PCA-Logistic Regression Accuracy\",accuracy_score(y_train, y_train_pre),accuracy_score(y_test, y_test_pre))"
   ]
  },
  {
   "cell_type": "code",
   "execution_count": 18,
   "metadata": {
    "scrolled": true
   },
   "outputs": [
    {
     "name": "stdout",
     "output_type": "stream",
     "text": [
      "0.8094757555100176\n",
      "0.8092231835721067\n",
      "[[663840   7410]\n",
      " [151149   8724]]\n"
     ]
    }
   ],
   "source": [
    "print(accuracy_score(y_train, y_train_pre)) \n",
    "print(accuracy_score(y_test, y_test_pre))\n",
    "print(confusion_matrix(y_test, y_test_pre))"
   ]
  },
  {
   "cell_type": "code",
   "execution_count": 19,
   "metadata": {},
   "outputs": [
    {
     "name": "stdout",
     "output_type": "stream",
     "text": [
      "              precision    recall  f1-score   support\n",
      "\n",
      "           0       0.81      0.99      0.89    671250\n",
      "           1       0.54      0.05      0.10    159873\n",
      "\n",
      "    accuracy                           0.81    831123\n",
      "   macro avg       0.68      0.52      0.50    831123\n",
      "weighted avg       0.76      0.81      0.74    831123\n",
      "\n"
     ]
    }
   ],
   "source": [
    "print(classification_report(y_test,y_test_pre))"
   ]
  },
  {
   "cell_type": "code",
   "execution_count": 20,
   "metadata": {},
   "outputs": [],
   "source": [
    "from sklearn.pipeline import make_pipeline\n",
    "pipe_lr = make_pipeline(StandardScaler(),\n",
    "                        PCA(n_components=3),\n",
    "                        LogisticRegression(random_state=42, solver='lbfgs'))     "
   ]
  },
  {
   "cell_type": "code",
   "execution_count": 21,
   "metadata": {},
   "outputs": [
    {
     "name": "stdout",
     "output_type": "stream",
     "text": [
      "CV accuracy scores: [0.8097448  0.80932197 0.80891976 0.80983762 0.80920852 0.80960558\n",
      " 0.80939833 0.80950146 0.80931067 0.80982117]\n",
      "CV accuracy: 0.809 +/- 0.000\n"
     ]
    }
   ],
   "source": [
    "from sklearn.model_selection import cross_val_score\n",
    "scores = cross_val_score(estimator=pipe_lr, X=X_train, y=y_train, cv=10)\n",
    "print('CV accuracy scores: %s' % scores)\n",
    "import numpy as np\n",
    "print('CV accuracy: %.3f +/- %.3f' % (np.mean(scores), np.std(scores)))"
   ]
  },
  {
   "cell_type": "code",
   "execution_count": 41,
   "metadata": {},
   "outputs": [],
   "source": [
    "from sklearn.discriminant_analysis import LinearDiscriminantAnalysis\n",
    "cld=LinearDiscriminantAnalysis(store_covariance=True)\n",
    "cld.fit(X_train, y_train)\n",
    "y_train_pred=cld.predict(X_train)\n",
    "y_test_pred=cld.predict(X_test)"
   ]
  },
  {
   "cell_type": "code",
   "execution_count": 42,
   "metadata": {},
   "outputs": [
    {
     "name": "stdout",
     "output_type": "stream",
     "text": [
      "LDA Accuracy 0.9979337756266997 0.9979629970533844\n"
     ]
    }
   ],
   "source": [
    "print(\"LDA Accuracy\",accuracy_score(y_train, y_train_pred),accuracy_score(y_test, y_test_pred))"
   ]
  },
  {
   "cell_type": "code",
   "execution_count": 27,
   "metadata": {
    "scrolled": true
   },
   "outputs": [
    {
     "name": "stdout",
     "output_type": "stream",
     "text": [
      "[[828491    168]\n",
      " [  1525    939]]\n"
     ]
    }
   ],
   "source": [
    "print(confusion_matrix(y_test, y_test_pred))"
   ]
  },
  {
   "cell_type": "code",
   "execution_count": 49,
   "metadata": {},
   "outputs": [],
   "source": [
    "from sklearn.pipeline import make_pipeline\n",
    "pipe = make_pipeline(StandardScaler(),\n",
    "                     LinearDiscriminantAnalysis(store_covariance=True))  "
   ]
  },
  {
   "cell_type": "code",
   "execution_count": 50,
   "metadata": {},
   "outputs": [
    {
     "name": "stdout",
     "output_type": "stream",
     "text": [
      "CV accuracy scores: [0.99782395 0.99792192 0.99808177 0.99794255 0.99796833 0.99788067\n",
      " 0.99792192 0.99787034 0.99794254 0.99799409]\n",
      "CV accuracy: 0.998 +/- 0.000\n"
     ]
    }
   ],
   "source": [
    "scores = cross_val_score(estimator=pipe, X=X_train, y=y_train, cv=10)\n",
    "print('CV accuracy scores: %s' % scores)\n",
    "print('CV accuracy: %.3f +/- %.3f' % (np.mean(scores), np.std(scores)))"
   ]
  },
  {
   "cell_type": "code",
   "execution_count": 43,
   "metadata": {},
   "outputs": [
    {
     "name": "stdout",
     "output_type": "stream",
     "text": [
      "              precision    recall  f1-score   support\n",
      "\n",
      "           0       1.00      1.00      1.00    828659\n",
      "           1       0.85      0.38      0.53      2464\n",
      "\n",
      "    accuracy                           1.00    831123\n",
      "   macro avg       0.92      0.69      0.76    831123\n",
      "weighted avg       1.00      1.00      1.00    831123\n",
      "\n"
     ]
    }
   ],
   "source": [
    "print(classification_report(y_test,y_test_pred))"
   ]
  },
  {
   "cell_type": "code",
   "execution_count": 39,
   "metadata": {},
   "outputs": [],
   "source": [
    "from sklearn.discriminant_analysis import LinearDiscriminantAnalysis as LDA\n",
    "lda=LDA(n_components=3) \n",
    "X_train_lda=lda.fit_transform(X_train_std,y_train)\n",
    "X_test_lda=lda.transform(X_test_std) \n",
    "lr=LogisticRegression()\n",
    "lr.fit(X_train_lda, y_train)\n",
    "y_train_pred=lr.predict(X_train_lda)\n",
    "y_test_pred=lr.predict(X_test_lda)"
   ]
  },
  {
   "cell_type": "code",
   "execution_count": 40,
   "metadata": {
    "scrolled": true
   },
   "outputs": [
    {
     "name": "stdout",
     "output_type": "stream",
     "text": [
      "LDA-Logistic Regression Accuracy 0.9979188216694186 0.9979461523745583\n"
     ]
    }
   ],
   "source": [
    "print(\"LDA-Logistic Regression Accuracy\",accuracy_score(y_train, y_train_pred),accuracy_score(y_test, y_test_pred))"
   ]
  },
  {
   "cell_type": "code",
   "execution_count": 32,
   "metadata": {
    "scrolled": true
   },
   "outputs": [
    {
     "name": "stdout",
     "output_type": "stream",
     "text": [
      "[[828465    194]\n",
      " [  1513    951]]\n"
     ]
    }
   ],
   "source": [
    "print(confusion_matrix(y_test, y_test_pred))"
   ]
  },
  {
   "cell_type": "code",
   "execution_count": 38,
   "metadata": {},
   "outputs": [
    {
     "name": "stdout",
     "output_type": "stream",
     "text": [
      "              precision    recall  f1-score   support\n",
      "\n",
      "           0       1.00      1.00      1.00    828659\n",
      "           1       0.83      0.39      0.53      2464\n",
      "\n",
      "    accuracy                           1.00    831123\n",
      "   macro avg       0.91      0.69      0.76    831123\n",
      "weighted avg       1.00      1.00      1.00    831123\n",
      "\n"
     ]
    }
   ],
   "source": [
    "print(classification_report(y_test,y_test_pred))"
   ]
  },
  {
   "cell_type": "code",
   "execution_count": 33,
   "metadata": {},
   "outputs": [],
   "source": [
    "from sklearn.pipeline import make_pipeline\n",
    "pipe_lr = make_pipeline(StandardScaler(),\n",
    "                        LDA(n_components=3),\n",
    "                        LogisticRegression(random_state=42, solver='lbfgs'))     "
   ]
  },
  {
   "cell_type": "code",
   "execution_count": 98,
   "metadata": {},
   "outputs": [
    {
     "name": "stdout",
     "output_type": "stream",
     "text": [
      "CV accuracy scores: [0.99779816 0.99790645 0.9980663  0.99791676 0.99794255 0.9978652\n",
      " 0.99789614 0.99788581 0.99793222 0.99797346]\n",
      "CV accuracy: 0.998 +/- 0.000\n"
     ]
    }
   ],
   "source": [
    "from sklearn.model_selection import cross_val_score\n",
    "scores = cross_val_score(estimator=pipe_lr, X=X_train, y=y_train, cv=10)\n",
    "print('CV accuracy scores: %s' % scores)\n",
    "import numpy as np\n",
    "print('CV accuracy: %.3f +/- %.3f' % (np.mean(scores), np.std(scores)))"
   ]
  },
  {
   "cell_type": "code",
   "execution_count": 51,
   "metadata": {},
   "outputs": [],
   "source": [
    "parametersRF = {'n_estimators':15,'oob_score':True,'class_weight': \"balanced\",'n_jobs':-1,'random_state':42}\n",
    "RF = RandomForestClassifier(**parametersRF)\n",
    "RF.fit(X_train, y_train)\n",
    "y_train_pred=RF.predict(X_train)\n",
    "y_test_pred = RF.predict(X_test)"
   ]
  },
  {
   "cell_type": "code",
   "execution_count": 52,
   "metadata": {},
   "outputs": [
    {
     "name": "stdout",
     "output_type": "stream",
     "text": [
      "Random Forest Accuracy 0.9999623572799473 0.9992708660450981\n",
      "[[828600     59]\n",
      " [   547   1917]]\n"
     ]
    }
   ],
   "source": [
    "print(\"Random Forest Accuracy\",accuracy_score(y_train, y_train_pred),accuracy_score(y_test, y_test_pred))\n",
    "print(confusion_matrix(y_test, y_test_pred))"
   ]
  },
  {
   "cell_type": "code",
   "execution_count": 47,
   "metadata": {},
   "outputs": [],
   "source": [
    "from sklearn.pipeline import make_pipeline\n",
    "pipe = make_pipeline(StandardScaler(),\n",
    "                        RandomForestClassifier(**parametersRF))     "
   ]
  },
  {
   "cell_type": "code",
   "execution_count": 48,
   "metadata": {},
   "outputs": [
    {
     "name": "stdout",
     "output_type": "stream",
     "text": [
      "CV accuracy scores: [0.99929871 0.99925746 0.99927809 0.9992884  0.99934512 0.99926262\n",
      " 0.99938637 0.99920073 0.99927808 0.99928839]\n",
      "CV accuracy: 0.999 +/- 0.000\n"
     ]
    }
   ],
   "source": [
    "scores = cross_val_score(estimator=pipe, X=X_train, y=y_train, cv=10)\n",
    "print('CV accuracy scores: %s' % scores)\n",
    "print('CV accuracy: %.3f +/- %.3f' % (np.mean(scores), np.std(scores)))"
   ]
  },
  {
   "cell_type": "code",
   "execution_count": 36,
   "metadata": {
    "scrolled": true
   },
   "outputs": [
    {
     "name": "stdout",
     "output_type": "stream",
     "text": [
      "              precision    recall  f1-score   support\n",
      "\n",
      "           0       1.00      1.00      1.00    828659\n",
      "           1       0.97      0.78      0.86      2464\n",
      "\n",
      "    accuracy                           1.00    831123\n",
      "   macro avg       0.98      0.89      0.93    831123\n",
      "weighted avg       1.00      1.00      1.00    831123\n",
      "\n"
     ]
    }
   ],
   "source": [
    "print(classification_report(y_test,y_test_pred))"
   ]
  },
  {
   "cell_type": "code",
   "execution_count": 10,
   "metadata": {},
   "outputs": [
    {
     "data": {
      "text/plain": [
       "{'learning_rate': 0.1, 'max_depth': 4}"
      ]
     },
     "execution_count": 10,
     "metadata": {},
     "output_type": "execute_result"
    }
   ],
   "source": [
    "from sklearn.model_selection import GridSearchCV\n",
    "param= {'max_depth': range (2, 5,1),'learning_rate': [0.1, 0.01]}\n",
    "xgsearch=GridSearchCV(estimator = XGBClassifier(objective= 'binary:logistic', nthread=4, seed=42),param_grid=param,scoring = 'roc_auc', n_jobs = 10, cv = 10)\n",
    "xgsearch.fit(X_train,y_train)\n",
    "xgsearch.best_params_"
   ]
  },
  {
   "cell_type": "code",
   "execution_count": 22,
   "metadata": {},
   "outputs": [],
   "source": [
    "xgb_model = XGBClassifier(max_depth=4,seed=17,learning_rate=0.1,random_state=42)\n",
    "xgb_model.fit(X_train, y_train)\n",
    "y_train_pred=xgb_model.predict(X_train)\n",
    "y_test_pred = xgb_model.predict(X_test)"
   ]
  },
  {
   "cell_type": "code",
   "execution_count": 59,
   "metadata": {},
   "outputs": [
    {
     "name": "stdout",
     "output_type": "stream",
     "text": [
      "XGB Accuracy 0.9992254881435745 0.9992107064778619\n",
      "[[828632     27]\n",
      " [   629   1835]]\n"
     ]
    }
   ],
   "source": [
    "print(\"XGB Accuracy\",accuracy_score(y_train, y_train_pred),accuracy_score(y_test, y_test_pred))\n",
    "print(confusion_matrix(y_test, y_test_pred))"
   ]
  },
  {
   "cell_type": "code",
   "execution_count": 60,
   "metadata": {},
   "outputs": [
    {
     "name": "stdout",
     "output_type": "stream",
     "text": [
      "              precision    recall  f1-score   support\n",
      "\n",
      "           0       1.00      1.00      1.00    828659\n",
      "           1       0.99      0.74      0.85      2464\n",
      "\n",
      "    accuracy                           1.00    831123\n",
      "   macro avg       0.99      0.87      0.92    831123\n",
      "weighted avg       1.00      1.00      1.00    831123\n",
      "\n"
     ]
    }
   ],
   "source": [
    "print(classification_report(y_test,y_test_pred))"
   ]
  },
  {
   "cell_type": "code",
   "execution_count": 12,
   "metadata": {},
   "outputs": [],
   "source": [
    "from sklearn.pipeline import make_pipeline\n",
    "pipe = make_pipeline(StandardScaler(),\n",
    "                        XGBClassifier(max_depth=3,seed=17,learning_rate=0.1,random_state=42))     "
   ]
  },
  {
   "cell_type": "code",
   "execution_count": 14,
   "metadata": {},
   "outputs": [
    {
     "name": "stdout",
     "output_type": "stream",
     "text": [
      "CV accuracy scores: [0.99927293 0.9991698  0.99921621 0.99918011 0.99926262 0.9991698\n",
      " 0.99928324 0.99912339 0.99913886 0.99923167]\n",
      "CV accuracy: 0.999 +/- 0.000\n"
     ]
    }
   ],
   "source": [
    "from sklearn.model_selection import cross_val_score\n",
    "scores = cross_val_score(estimator=pipe, X=X_train, y=y_train, cv=10)\n",
    "print('CV accuracy scores: %s' % scores)\n",
    "print('CV accuracy: %.3f +/- %.3f' % (np.mean(scores), np.std(scores)))"
   ]
  },
  {
   "cell_type": "code",
   "execution_count": 25,
   "metadata": {},
   "outputs": [],
   "source": [
    "from sklearn import tree\n",
    "dtc = tree.DecisionTreeClassifier(criterion='gini', max_depth=3, random_state=1)\n",
    "dtc.fit(X_train, y_train)\n",
    "y_train_pred = dtc.predict(X_train)  \n",
    "y_test_pred = dtc.predict(X_test) "
   ]
  },
  {
   "cell_type": "code",
   "execution_count": 26,
   "metadata": {},
   "outputs": [
    {
     "data": {
      "text/plain": [
       "[Text(167.4, 190.26, 'X[1] <= 543357.562\\nentropy = 0.311\\nsamples = 1939286\\nvalue = [1566250, 373036]'),\n",
       " Text(83.7, 135.9, 'X[1] <= 360427.266\\nentropy = 0.204\\nsamples = 1744558\\nvalue = [1543047, 201511]'),\n",
       " Text(41.85, 81.53999999999999, 'X[1] <= 242091.461\\nentropy = 0.171\\nsamples = 1564712\\nvalue = [1417046, 147666]'),\n",
       " Text(20.925, 27.180000000000007, 'entropy = 0.151\\nsamples = 1264914\\nvalue = [1161156, 103758]'),\n",
       " Text(62.775000000000006, 27.180000000000007, 'entropy = 0.25\\nsamples = 299798\\nvalue = [255890, 43908]'),\n",
       " Text(125.55000000000001, 81.53999999999999, 'X[1] <= 459702.672\\nentropy = 0.42\\nsamples = 179846\\nvalue = [126001, 53845]'),\n",
       " Text(104.625, 27.180000000000007, 'entropy = 0.377\\nsamples = 123539\\nvalue = [92361, 31178]'),\n",
       " Text(146.475, 27.180000000000007, 'entropy = 0.481\\nsamples = 56307\\nvalue = [33640, 22667]'),\n",
       " Text(251.10000000000002, 135.9, 'X[1] <= 669706.906\\nentropy = 0.21\\nsamples = 194728\\nvalue = [23203, 171525]'),\n",
       " Text(209.25, 81.53999999999999, 'X[1] <= 607760.906\\nentropy = 0.469\\nsamples = 46047\\nvalue = [17306, 28741]'),\n",
       " Text(188.32500000000002, 27.180000000000007, 'entropy = 0.491\\nsamples = 27100\\nvalue = [11729, 15371]'),\n",
       " Text(230.175, 27.180000000000007, 'entropy = 0.415\\nsamples = 18947\\nvalue = [5577, 13370]'),\n",
       " Text(292.95, 81.53999999999999, 'X[6] <= 0.5\\nentropy = 0.076\\nsamples = 148681\\nvalue = [5897, 142784]'),\n",
       " Text(272.02500000000003, 27.180000000000007, 'entropy = 0.062\\nsamples = 146294\\nvalue = [4696, 141598]'),\n",
       " Text(313.875, 27.180000000000007, 'entropy = 0.5\\nsamples = 2387\\nvalue = [1201, 1186]')]"
      ]
     },
     "execution_count": 26,
     "metadata": {},
     "output_type": "execute_result"
    },
    {
     "data": {
      "image/png": "[encoded data removed]",
      "text/plain": [
       "<Figure size 432x288 with 1 Axes>"
      ]
     },
     "metadata": {
      "needs_background": "light"
     },
     "output_type": "display_data"
    }
   ],
   "source": [
    "tree.plot_tree(dtc.fit(X_train,y_train))"
   ]
  },
  {
   "cell_type": "code",
   "execution_count": 27,
   "metadata": {},
   "outputs": [
    {
     "name": "stdout",
     "output_type": "stream",
     "text": [
      "Decision Tree Accuracy 0.8841331294094837 0.8837308075940625\n",
      "[[661641   9609]\n",
      " [ 87025  72848]]\n"
     ]
    }
   ],
   "source": [
    "print(\"Decision Tree Accuracy\",accuracy_score(y_train, y_train_pred),accuracy_score(y_test, y_test_pred))\n",
    "print(metrics.confusion_matrix(y_test, y_test_pred))"
   ]
  },
  {
   "cell_type": "code",
   "execution_count": 12,
   "metadata": {},
   "outputs": [
    {
     "name": "stdout",
     "output_type": "stream",
     "text": [
      "              precision    recall  f1-score   support\n",
      "\n",
      "           0       1.00      1.00      1.00    828659\n",
      "           1       0.82      0.65      0.73      2464\n",
      "\n",
      "    accuracy                           1.00    831123\n",
      "   macro avg       0.91      0.83      0.86    831123\n",
      "weighted avg       1.00      1.00      1.00    831123\n",
      "\n"
     ]
    }
   ],
   "source": [
    "print(classification_report(y_test,y_test_pred))"
   ]
  },
  {
   "cell_type": "code",
   "execution_count": 15,
   "metadata": {},
   "outputs": [],
   "source": [
    "from sklearn import tree\n",
    "pipe = make_pipeline(StandardScaler(),\n",
    "                        tree.DecisionTreeClassifier(criterion='gini', max_depth=3, random_state=1))     "
   ]
  },
  {
   "cell_type": "code",
   "execution_count": 16,
   "metadata": {},
   "outputs": [
    {
     "name": "stdout",
     "output_type": "stream",
     "text": [
      "CV accuracy scores: [0.99858711 0.99858196 0.99859742 0.99862321 0.99859742 0.99846336\n",
      " 0.99865415 0.99841178 0.99839116 0.99856647]\n",
      "CV accuracy: 0.999 +/- 0.000\n"
     ]
    }
   ],
   "source": [
    "scores = cross_val_score(estimator=pipe, X=X_train, y=y_train, cv=10)\n",
    "print('CV accuracy scores: %s' % scores)\n",
    "print('CV accuracy: %.3f +/- %.3f' % (np.mean(scores), np.std(scores)))"
   ]
  }
 ],
 "metadata": {
  "kernelspec": {
   "display_name": "Python 3",
   "language": "python",
   "name": "python3"
  },
  "language_info": {
   "codemirror_mode": {
    "name": "ipython",
    "version": 3
   },
   "file_extension": ".py",
   "mimetype": "text/x-python",
   "name": "python",
   "nbconvert_exporter": "python",
   "pygments_lexer": "ipython3",
   "version": "3.7.3"
  }
 },
 "nbformat": 4,
 "nbformat_minor": 4
}
