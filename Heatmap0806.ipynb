{
  "nbformat": 4,
  "nbformat_minor": 0,
  "metadata": {
    "colab": {
      "name": "Heatmap0806.ipynb",
      "provenance": [],
      "collapsed_sections": [],
      "include_colab_link": true
    },
    "kernelspec": {
      "name": "python3",
      "display_name": "Python 3"
    }
  },
  "cells": [
    {
      "cell_type": "markdown",
      "metadata": {
        "id": "view-in-github",
        "colab_type": "text"
      },
      "source": [
        "<a href=\"https://colab.research.google.com/github/Soyeon-ErinLee/Machine_Learning/blob/master/Heatmap0806.ipynb\" target=\"_parent\"><img src=\"https://colab.research.google.com/assets/colab-badge.svg\" alt=\"Open In Colab\"/></a>"
      ]
    },
    {
      "cell_type": "code",
      "metadata": {
        "id": "NZEa0Pa7wgHJ",
        "colab_type": "code",
        "colab": {
          "base_uri": "https://localhost:8080/",
          "height": 126
        },
        "outputId": "98a9f49e-6a95-441a-e37a-243f85f9d882"
      },
      "source": [
        "from google.colab import drive\n",
        "drive.mount(\"/content/mydrive\")"
      ],
      "execution_count": null,
      "outputs": [
        {
          "output_type": "stream",
          "text": [
            "Go to this URL in a browser: https://accounts.google.com/o/oauth2/auth?client_id=947318989803-6bn6qk8qdgf4n4g3pfee6491hc0brc4i.apps.googleusercontent.com&redirect_uri=urn%3aietf%3awg%3aoauth%3a2.0%3aoob&response_type=code&scope=email%20https%3a%2f%2fwww.googleapis.com%2fauth%2fdocs.test%20https%3a%2f%2fwww.googleapis.com%2fauth%2fdrive%20https%3a%2f%2fwww.googleapis.com%2fauth%2fdrive.photos.readonly%20https%3a%2f%2fwww.googleapis.com%2fauth%2fpeopleapi.readonly\n",
            "\n",
            "Enter your authorization code:\n",
            "··········\n",
            "Mounted at /content/mydrive\n"
          ],
          "name": "stdout"
        }
      ]
    },
    {
      "cell_type": "code",
      "metadata": {
        "id": "d6qw2GgUw1nP",
        "colab_type": "code",
        "colab": {
          "base_uri": "https://localhost:8080/",
          "height": 259
        },
        "outputId": "16bfd3dc-0f5c-47c8-a91d-6bd85cbdfb1e"
      },
      "source": [
        "import pandas as pd\n",
        "today=pd.read_csv(\"/content/mydrive/Shared drives/2020 KU datathon/data/0225SSSdata.csv\")\n",
        "today = today.drop(\"Unnamed: 0\",axis=1)\n",
        "today.head(6)"
      ],
      "execution_count": null,
      "outputs": [
        {
          "output_type": "stream",
          "text": [
            "/usr/local/lib/python3.6/dist-packages/IPython/core/interactiveshell.py:2718: DtypeWarning: Columns (9) have mixed types.Specify dtype option on import or set low_memory=False.\n",
            "  interactivity=interactivity, compiler=compiler, result=result)\n"
          ],
          "name": "stderr"
        },
        {
          "output_type": "execute_result",
          "data": {
            "text/html": [
              "<div>\n",
              "<style scoped>\n",
              "    .dataframe tbody tr th:only-of-type {\n",
              "        vertical-align: middle;\n",
              "    }\n",
              "\n",
              "    .dataframe tbody tr th {\n",
              "        vertical-align: top;\n",
              "    }\n",
              "\n",
              "    .dataframe thead th {\n",
              "        text-align: right;\n",
              "    }\n",
              "</style>\n",
              "<table border=\"1\" class=\"dataframe\">\n",
              "  <thead>\n",
              "    <tr style=\"text-align: right;\">\n",
              "      <th></th>\n",
              "      <th>time_stamp_s</th>\n",
              "      <th>fire</th>\n",
              "      <th>dust</th>\n",
              "      <th>temperature</th>\n",
              "      <th>humidity</th>\n",
              "      <th>co2</th>\n",
              "      <th>moving</th>\n",
              "      <th>door</th>\n",
              "      <th>roomid</th>\n",
              "      <th>floor</th>\n",
              "      <th>co2score</th>\n",
              "      <th>dustscore</th>\n",
              "      <th>humidscore</th>\n",
              "      <th>temp1score</th>\n",
              "      <th>temp2score</th>\n",
              "      <th>totalscore</th>\n",
              "      <th>SSS</th>\n",
              "    </tr>\n",
              "  </thead>\n",
              "  <tbody>\n",
              "    <tr>\n",
              "      <th>0</th>\n",
              "      <td>2020-02-25 00:00:29</td>\n",
              "      <td>0</td>\n",
              "      <td>38</td>\n",
              "      <td>21.193508</td>\n",
              "      <td>29.266388</td>\n",
              "      <td>887</td>\n",
              "      <td>0</td>\n",
              "      <td>0</td>\n",
              "      <td>202</td>\n",
              "      <td>floor2</td>\n",
              "      <td>40</td>\n",
              "      <td>80</td>\n",
              "      <td>50</td>\n",
              "      <td>50</td>\n",
              "      <td>75</td>\n",
              "      <td>55.0</td>\n",
              "      <td>3</td>\n",
              "    </tr>\n",
              "    <tr>\n",
              "      <th>1</th>\n",
              "      <td>2020-02-25 00:01:29</td>\n",
              "      <td>0</td>\n",
              "      <td>37</td>\n",
              "      <td>21.193508</td>\n",
              "      <td>29.266388</td>\n",
              "      <td>883</td>\n",
              "      <td>0</td>\n",
              "      <td>0</td>\n",
              "      <td>202</td>\n",
              "      <td>floor2</td>\n",
              "      <td>40</td>\n",
              "      <td>80</td>\n",
              "      <td>50</td>\n",
              "      <td>50</td>\n",
              "      <td>75</td>\n",
              "      <td>55.0</td>\n",
              "      <td>3</td>\n",
              "    </tr>\n",
              "    <tr>\n",
              "      <th>2</th>\n",
              "      <td>2020-02-25 00:02:29</td>\n",
              "      <td>0</td>\n",
              "      <td>38</td>\n",
              "      <td>21.182783</td>\n",
              "      <td>29.274017</td>\n",
              "      <td>881</td>\n",
              "      <td>0</td>\n",
              "      <td>0</td>\n",
              "      <td>202</td>\n",
              "      <td>floor2</td>\n",
              "      <td>40</td>\n",
              "      <td>80</td>\n",
              "      <td>50</td>\n",
              "      <td>50</td>\n",
              "      <td>75</td>\n",
              "      <td>55.0</td>\n",
              "      <td>3</td>\n",
              "    </tr>\n",
              "    <tr>\n",
              "      <th>3</th>\n",
              "      <td>2020-02-25 00:03:29</td>\n",
              "      <td>0</td>\n",
              "      <td>39</td>\n",
              "      <td>21.182783</td>\n",
              "      <td>29.258759</td>\n",
              "      <td>877</td>\n",
              "      <td>0</td>\n",
              "      <td>0</td>\n",
              "      <td>202</td>\n",
              "      <td>floor2</td>\n",
              "      <td>40</td>\n",
              "      <td>80</td>\n",
              "      <td>50</td>\n",
              "      <td>50</td>\n",
              "      <td>75</td>\n",
              "      <td>55.0</td>\n",
              "      <td>3</td>\n",
              "    </tr>\n",
              "    <tr>\n",
              "      <th>4</th>\n",
              "      <td>2020-02-25 00:04:29</td>\n",
              "      <td>0</td>\n",
              "      <td>36</td>\n",
              "      <td>21.172058</td>\n",
              "      <td>29.258759</td>\n",
              "      <td>877</td>\n",
              "      <td>0</td>\n",
              "      <td>0</td>\n",
              "      <td>202</td>\n",
              "      <td>floor2</td>\n",
              "      <td>40</td>\n",
              "      <td>80</td>\n",
              "      <td>50</td>\n",
              "      <td>50</td>\n",
              "      <td>75</td>\n",
              "      <td>55.0</td>\n",
              "      <td>3</td>\n",
              "    </tr>\n",
              "    <tr>\n",
              "      <th>5</th>\n",
              "      <td>2020-02-25 00:05:29</td>\n",
              "      <td>0</td>\n",
              "      <td>38</td>\n",
              "      <td>21.182783</td>\n",
              "      <td>29.266388</td>\n",
              "      <td>875</td>\n",
              "      <td>0</td>\n",
              "      <td>0</td>\n",
              "      <td>202</td>\n",
              "      <td>floor2</td>\n",
              "      <td>40</td>\n",
              "      <td>80</td>\n",
              "      <td>50</td>\n",
              "      <td>50</td>\n",
              "      <td>75</td>\n",
              "      <td>55.0</td>\n",
              "      <td>3</td>\n",
              "    </tr>\n",
              "  </tbody>\n",
              "</table>\n",
              "</div>"
            ],
            "text/plain": [
              "          time_stamp_s  fire  dust  ...  temp2score  totalscore  SSS\n",
              "0  2020-02-25 00:00:29     0    38  ...          75        55.0    3\n",
              "1  2020-02-25 00:01:29     0    37  ...          75        55.0    3\n",
              "2  2020-02-25 00:02:29     0    38  ...          75        55.0    3\n",
              "3  2020-02-25 00:03:29     0    39  ...          75        55.0    3\n",
              "4  2020-02-25 00:04:29     0    36  ...          75        55.0    3\n",
              "5  2020-02-25 00:05:29     0    38  ...          75        55.0    3\n",
              "\n",
              "[6 rows x 17 columns]"
            ]
          },
          "metadata": {
            "tags": []
          },
          "execution_count": 24
        }
      ]
    },
    {
      "cell_type": "code",
      "metadata": {
        "id": "Y_ihTzmbRfFi",
        "colab_type": "code",
        "colab": {}
      },
      "source": [
        "#####################################################################################################################################################"
      ],
      "execution_count": null,
      "outputs": []
    },
    {
      "cell_type": "code",
      "metadata": {
        "id": "PPvw9C_vwtNG",
        "colab_type": "code",
        "colab": {}
      },
      "source": [
        "# heatmap은 보류, 밑으로 가시오!!\n",
        "!pip install heatmappy"
      ],
      "execution_count": null,
      "outputs": []
    },
    {
      "cell_type": "code",
      "metadata": {
        "id": "zKj1beJMwt4y",
        "colab_type": "code",
        "colab": {}
      },
      "source": [
        "!pip install pillow --upgrade"
      ],
      "execution_count": null,
      "outputs": []
    },
    {
      "cell_type": "code",
      "metadata": {
        "id": "-BfnTBi3w5qA",
        "colab_type": "code",
        "colab": {}
      },
      "source": [
        "from heatmappy import Heatmapper\n",
        "from PIL import Image"
      ],
      "execution_count": null,
      "outputs": []
    },
    {
      "cell_type": "code",
      "metadata": {
        "id": "1usWrfp1w7u4",
        "colab_type": "code",
        "colab": {}
      },
      "source": [
        "# 각 룸별 좌표 태깅 필요 "
      ],
      "execution_count": null,
      "outputs": []
    },
    {
      "cell_type": "code",
      "metadata": {
        "id": "NXis50O5w9-U",
        "colab_type": "code",
        "colab": {}
      },
      "source": [
        "r301 = (655, 365)\n",
        "r302 = (650, 430)\n",
        "r303 = (647, 490)\n",
        "r304 = (645, 545)\n",
        "r305 = (640, 610)\n",
        "r306 = (645, 865)"
      ],
      "execution_count": null,
      "outputs": []
    },
    {
      "cell_type": "code",
      "metadata": {
        "id": "FpK_ZVZGw-BG",
        "colab_type": "code",
        "colab": {}
      },
      "source": [
        "points = [r301, r302, r303, r304, r305, r306]\n",
        "Floor3 = '/content/mydrive/Shared drives/2020 KU datathon/Visualization/Floor3.jpg'\n",
        "Floor3 = Image.open(Floor3)"
      ],
      "execution_count": null,
      "outputs": []
    },
    {
      "cell_type": "code",
      "metadata": {
        "id": "KAqk-Xjnw-Gc",
        "colab_type": "code",
        "colab": {}
      },
      "source": [
        "heatmapper = Heatmapper(point_diameter=100, point_strength=0.9, colours='default')"
      ],
      "execution_count": null,
      "outputs": []
    },
    {
      "cell_type": "code",
      "metadata": {
        "id": "lGtdFZn9w-Jd",
        "colab_type": "code",
        "colab": {}
      },
      "source": [
        "heatmap = heatmapper.heatmap_on_img(points, Floor3)"
      ],
      "execution_count": null,
      "outputs": []
    },
    {
      "cell_type": "code",
      "metadata": {
        "id": "B0w6t4Odw-L3",
        "colab_type": "code",
        "colab": {}
      },
      "source": [
        "heatmap.save('/content/mydrive/Shared drives/2020 KU datathon/Visualization/heatmap.png')"
      ],
      "execution_count": null,
      "outputs": []
    },
    {
      "cell_type": "code",
      "metadata": {
        "id": "Pj5jHORUSXwD",
        "colab_type": "code",
        "colab": {}
      },
      "source": [
        ""
      ],
      "execution_count": null,
      "outputs": []
    },
    {
      "cell_type": "code",
      "metadata": {
        "id": "QfjHuxnQ0mSh",
        "colab_type": "code",
        "colab": {}
      },
      "source": [
        "####################################################################################################################"
      ],
      "execution_count": null,
      "outputs": []
    },
    {
      "cell_type": "code",
      "metadata": {
        "id": "T80GVeF-RJgL",
        "colab_type": "code",
        "colab": {
          "base_uri": "https://localhost:8080/",
          "height": 399
        },
        "outputId": "01907e83-9492-4d9c-9970-08b687fb6312"
      },
      "source": [
        "import numpy as np\n",
        "\n",
        "colorconditions = [\n",
        "                 (today.SSS==1),\n",
        "                 (today.SSS==2),\n",
        "                 (today.SSS==3),\n",
        "                 (today.SSS==4),\n",
        "                 (today.SSS==5)\n",
        "]\n",
        "colorchoices= ['r','o','y','g','b']\n",
        "today[\"color\"]= np.select(colorconditions, colorchoices)\n",
        "today "
      ],
      "execution_count": null,
      "outputs": [
        {
          "output_type": "execute_result",
          "data": {
            "text/html": [
              "<div>\n",
              "<style scoped>\n",
              "    .dataframe tbody tr th:only-of-type {\n",
              "        vertical-align: middle;\n",
              "    }\n",
              "\n",
              "    .dataframe tbody tr th {\n",
              "        vertical-align: top;\n",
              "    }\n",
              "\n",
              "    .dataframe thead th {\n",
              "        text-align: right;\n",
              "    }\n",
              "</style>\n",
              "<table border=\"1\" class=\"dataframe\">\n",
              "  <thead>\n",
              "    <tr style=\"text-align: right;\">\n",
              "      <th></th>\n",
              "      <th>time_stamp_s</th>\n",
              "      <th>fire</th>\n",
              "      <th>dust</th>\n",
              "      <th>temperature</th>\n",
              "      <th>humidity</th>\n",
              "      <th>co2</th>\n",
              "      <th>moving</th>\n",
              "      <th>door</th>\n",
              "      <th>roomid</th>\n",
              "      <th>floor</th>\n",
              "      <th>co2score</th>\n",
              "      <th>dustscore</th>\n",
              "      <th>humidscore</th>\n",
              "      <th>temp1score</th>\n",
              "      <th>temp2score</th>\n",
              "      <th>totalscore</th>\n",
              "      <th>SSS</th>\n",
              "      <th>color</th>\n",
              "    </tr>\n",
              "  </thead>\n",
              "  <tbody>\n",
              "    <tr>\n",
              "      <th>0</th>\n",
              "      <td>2020-02-25 00:00:29</td>\n",
              "      <td>0</td>\n",
              "      <td>38</td>\n",
              "      <td>21.193508</td>\n",
              "      <td>29.266388</td>\n",
              "      <td>887</td>\n",
              "      <td>0</td>\n",
              "      <td>0</td>\n",
              "      <td>202</td>\n",
              "      <td>floor2</td>\n",
              "      <td>40</td>\n",
              "      <td>80</td>\n",
              "      <td>50</td>\n",
              "      <td>50</td>\n",
              "      <td>75</td>\n",
              "      <td>55.0</td>\n",
              "      <td>3</td>\n",
              "      <td>y</td>\n",
              "    </tr>\n",
              "    <tr>\n",
              "      <th>1</th>\n",
              "      <td>2020-02-25 00:01:29</td>\n",
              "      <td>0</td>\n",
              "      <td>37</td>\n",
              "      <td>21.193508</td>\n",
              "      <td>29.266388</td>\n",
              "      <td>883</td>\n",
              "      <td>0</td>\n",
              "      <td>0</td>\n",
              "      <td>202</td>\n",
              "      <td>floor2</td>\n",
              "      <td>40</td>\n",
              "      <td>80</td>\n",
              "      <td>50</td>\n",
              "      <td>50</td>\n",
              "      <td>75</td>\n",
              "      <td>55.0</td>\n",
              "      <td>3</td>\n",
              "      <td>y</td>\n",
              "    </tr>\n",
              "    <tr>\n",
              "      <th>2</th>\n",
              "      <td>2020-02-25 00:02:29</td>\n",
              "      <td>0</td>\n",
              "      <td>38</td>\n",
              "      <td>21.182783</td>\n",
              "      <td>29.274017</td>\n",
              "      <td>881</td>\n",
              "      <td>0</td>\n",
              "      <td>0</td>\n",
              "      <td>202</td>\n",
              "      <td>floor2</td>\n",
              "      <td>40</td>\n",
              "      <td>80</td>\n",
              "      <td>50</td>\n",
              "      <td>50</td>\n",
              "      <td>75</td>\n",
              "      <td>55.0</td>\n",
              "      <td>3</td>\n",
              "      <td>y</td>\n",
              "    </tr>\n",
              "    <tr>\n",
              "      <th>3</th>\n",
              "      <td>2020-02-25 00:03:29</td>\n",
              "      <td>0</td>\n",
              "      <td>39</td>\n",
              "      <td>21.182783</td>\n",
              "      <td>29.258759</td>\n",
              "      <td>877</td>\n",
              "      <td>0</td>\n",
              "      <td>0</td>\n",
              "      <td>202</td>\n",
              "      <td>floor2</td>\n",
              "      <td>40</td>\n",
              "      <td>80</td>\n",
              "      <td>50</td>\n",
              "      <td>50</td>\n",
              "      <td>75</td>\n",
              "      <td>55.0</td>\n",
              "      <td>3</td>\n",
              "      <td>y</td>\n",
              "    </tr>\n",
              "    <tr>\n",
              "      <th>4</th>\n",
              "      <td>2020-02-25 00:04:29</td>\n",
              "      <td>0</td>\n",
              "      <td>36</td>\n",
              "      <td>21.172058</td>\n",
              "      <td>29.258759</td>\n",
              "      <td>877</td>\n",
              "      <td>0</td>\n",
              "      <td>0</td>\n",
              "      <td>202</td>\n",
              "      <td>floor2</td>\n",
              "      <td>40</td>\n",
              "      <td>80</td>\n",
              "      <td>50</td>\n",
              "      <td>50</td>\n",
              "      <td>75</td>\n",
              "      <td>55.0</td>\n",
              "      <td>3</td>\n",
              "      <td>y</td>\n",
              "    </tr>\n",
              "    <tr>\n",
              "      <th>...</th>\n",
              "      <td>...</td>\n",
              "      <td>...</td>\n",
              "      <td>...</td>\n",
              "      <td>...</td>\n",
              "      <td>...</td>\n",
              "      <td>...</td>\n",
              "      <td>...</td>\n",
              "      <td>...</td>\n",
              "      <td>...</td>\n",
              "      <td>...</td>\n",
              "      <td>...</td>\n",
              "      <td>...</td>\n",
              "      <td>...</td>\n",
              "      <td>...</td>\n",
              "      <td>...</td>\n",
              "      <td>...</td>\n",
              "      <td>...</td>\n",
              "      <td>...</td>\n",
              "    </tr>\n",
              "    <tr>\n",
              "      <th>281763</th>\n",
              "      <td>2020-02-25 23:55:29</td>\n",
              "      <td>0</td>\n",
              "      <td>21</td>\n",
              "      <td>19.563293</td>\n",
              "      <td>35.690338</td>\n",
              "      <td>883</td>\n",
              "      <td>0</td>\n",
              "      <td>0</td>\n",
              "      <td>B141</td>\n",
              "      <td>floorB</td>\n",
              "      <td>40</td>\n",
              "      <td>80</td>\n",
              "      <td>100</td>\n",
              "      <td>50</td>\n",
              "      <td>75</td>\n",
              "      <td>67.5</td>\n",
              "      <td>4</td>\n",
              "      <td>g</td>\n",
              "    </tr>\n",
              "    <tr>\n",
              "      <th>281764</th>\n",
              "      <td>2020-02-25 23:56:29</td>\n",
              "      <td>0</td>\n",
              "      <td>20</td>\n",
              "      <td>19.563293</td>\n",
              "      <td>35.667450</td>\n",
              "      <td>869</td>\n",
              "      <td>0</td>\n",
              "      <td>0</td>\n",
              "      <td>B141</td>\n",
              "      <td>floorB</td>\n",
              "      <td>40</td>\n",
              "      <td>80</td>\n",
              "      <td>100</td>\n",
              "      <td>50</td>\n",
              "      <td>75</td>\n",
              "      <td>67.5</td>\n",
              "      <td>4</td>\n",
              "      <td>g</td>\n",
              "    </tr>\n",
              "    <tr>\n",
              "      <th>281765</th>\n",
              "      <td>2020-02-25 23:57:29</td>\n",
              "      <td>0</td>\n",
              "      <td>21</td>\n",
              "      <td>19.552568</td>\n",
              "      <td>35.636932</td>\n",
              "      <td>874</td>\n",
              "      <td>0</td>\n",
              "      <td>0</td>\n",
              "      <td>B141</td>\n",
              "      <td>floorB</td>\n",
              "      <td>40</td>\n",
              "      <td>80</td>\n",
              "      <td>100</td>\n",
              "      <td>50</td>\n",
              "      <td>75</td>\n",
              "      <td>67.5</td>\n",
              "      <td>4</td>\n",
              "      <td>g</td>\n",
              "    </tr>\n",
              "    <tr>\n",
              "      <th>281766</th>\n",
              "      <td>2020-02-25 23:58:29</td>\n",
              "      <td>0</td>\n",
              "      <td>21</td>\n",
              "      <td>19.541843</td>\n",
              "      <td>35.659821</td>\n",
              "      <td>882</td>\n",
              "      <td>0</td>\n",
              "      <td>0</td>\n",
              "      <td>B141</td>\n",
              "      <td>floorB</td>\n",
              "      <td>40</td>\n",
              "      <td>80</td>\n",
              "      <td>100</td>\n",
              "      <td>50</td>\n",
              "      <td>75</td>\n",
              "      <td>67.5</td>\n",
              "      <td>4</td>\n",
              "      <td>g</td>\n",
              "    </tr>\n",
              "    <tr>\n",
              "      <th>281767</th>\n",
              "      <td>2020-02-25 23:59:29</td>\n",
              "      <td>0</td>\n",
              "      <td>22</td>\n",
              "      <td>19.552568</td>\n",
              "      <td>35.667450</td>\n",
              "      <td>886</td>\n",
              "      <td>0</td>\n",
              "      <td>0</td>\n",
              "      <td>B141</td>\n",
              "      <td>floorB</td>\n",
              "      <td>40</td>\n",
              "      <td>80</td>\n",
              "      <td>100</td>\n",
              "      <td>50</td>\n",
              "      <td>75</td>\n",
              "      <td>67.5</td>\n",
              "      <td>4</td>\n",
              "      <td>g</td>\n",
              "    </tr>\n",
              "  </tbody>\n",
              "</table>\n",
              "<p>281768 rows × 18 columns</p>\n",
              "</div>"
            ],
            "text/plain": [
              "              time_stamp_s  fire  dust  ...  totalscore  SSS  color\n",
              "0      2020-02-25 00:00:29     0    38  ...        55.0    3      y\n",
              "1      2020-02-25 00:01:29     0    37  ...        55.0    3      y\n",
              "2      2020-02-25 00:02:29     0    38  ...        55.0    3      y\n",
              "3      2020-02-25 00:03:29     0    39  ...        55.0    3      y\n",
              "4      2020-02-25 00:04:29     0    36  ...        55.0    3      y\n",
              "...                    ...   ...   ...  ...         ...  ...    ...\n",
              "281763 2020-02-25 23:55:29     0    21  ...        67.5    4      g\n",
              "281764 2020-02-25 23:56:29     0    20  ...        67.5    4      g\n",
              "281765 2020-02-25 23:57:29     0    21  ...        67.5    4      g\n",
              "281766 2020-02-25 23:58:29     0    21  ...        67.5    4      g\n",
              "281767 2020-02-25 23:59:29     0    22  ...        67.5    4      g\n",
              "\n",
              "[281768 rows x 18 columns]"
            ]
          },
          "metadata": {
            "tags": []
          },
          "execution_count": 26
        }
      ]
    },
    {
      "cell_type": "code",
      "metadata": {
        "id": "T6K4NA_vRtmc",
        "colab_type": "code",
        "colab": {}
      },
      "source": [
        "import numpy as np\n",
        "today['time_stamp_s'] = pd.to_datetime(today['time_stamp_s'])\n",
        "today0900 = today[today['time_stamp_s'].dt.time.astype(str)=='09:00:29']"
      ],
      "execution_count": null,
      "outputs": []
    },
    {
      "cell_type": "code",
      "metadata": {
        "id": "GlV1UU7aQv2w",
        "colab_type": "code",
        "colab": {}
      },
      "source": [
        "# create circles with random locations \n",
        "floor3roomid = today0900[today0900['floor']=='floor3'].roomid\n",
        "N = floor3roomid.shape[0] # number of circles \n",
        "x = np.random.randint(130,910,N) \n",
        "y = np.random.randint(360,1330,N) \n",
        "floor3roomid = np.array(today0900[today0900['floor']=='floor3'].roomid)"
      ],
      "execution_count": null,
      "outputs": []
    },
    {
      "cell_type": "code",
      "metadata": {
        "id": "nFOHcUQOQv5f",
        "colab_type": "code",
        "colab": {}
      },
      "source": [
        "# colors\n",
        "c=[]\n",
        "for i in range(N):\n",
        "  c.append(tuple(today0900[today0900['roomid']==floor3roomid[i]]['color'].values))\n",
        "c = list(sum(c,()))"
      ],
      "execution_count": null,
      "outputs": []
    },
    {
      "cell_type": "code",
      "metadata": {
        "id": "n2GLN2qzQv8h",
        "colab_type": "code",
        "colab": {}
      },
      "source": [
        "from matplotlib.patches import Circle \n",
        "patch = [] \n",
        "for x1, y1, c1 in zip(x, y, c): \n",
        "    circle = Circle((x1, y1),30,linewidth=1, color=c1, fc = c1, ec = c1, alpha=0.4)\n",
        "    patch.append(circle) "
      ],
      "execution_count": null,
      "outputs": []
    },
    {
      "cell_type": "code",
      "metadata": {
        "id": "sG06dPNeQwAl",
        "colab_type": "code",
        "colab": {
          "base_uri": "https://localhost:8080/",
          "height": 269
        },
        "outputId": "64128bc6-ca45-4016-b39f-5aeef8742b93"
      },
      "source": [
        "import matplotlib.pyplot as plt\n",
        "import matplotlib.patches as patches\n",
        "from PIL import Image\n",
        "import numpy as np\n",
        "\n",
        "im = np.array(Image.open('/content/mydrive/Shared drives/2020 KU datathon/Visualization/floor3.png'), dtype=np.uint8)\n",
        "\n",
        "# Create figure and axes\n",
        "fig,ax = plt.subplots(1)\n",
        "\n",
        "# Display the image\n",
        "ax.imshow(im)\n",
        "\n",
        "from matplotlib.collections import PatchCollection \n",
        "\n",
        "p=PatchCollection(patch, c)\n",
        "ax.add_collection(p)\n",
        "\n",
        "plt.show()"
      ],
      "execution_count": null,
      "outputs": [
        {
          "output_type": "display_data",
          "data": {
            "image/png": "[encoded data removed]",
            "text/plain": [
              "<Figure size 432x288 with 1 Axes>"
            ]
          },
          "metadata": {
            "tags": [],
            "needs_background": "light"
          }
        }
      ]
    },
    {
      "cell_type": "code",
      "metadata": {
        "id": "8_wusClOQwDL",
        "colab_type": "code",
        "colab": {}
      },
      "source": [
        ""
      ],
      "execution_count": null,
      "outputs": []
    },
    {
      "cell_type": "code",
      "metadata": {
        "id": "Vh6Sah0JQwFw",
        "colab_type": "code",
        "colab": {}
      },
      "source": [
        ""
      ],
      "execution_count": null,
      "outputs": []
    },
    {
      "cell_type": "code",
      "metadata": {
        "id": "FV_AzOYiQwH0",
        "colab_type": "code",
        "colab": {}
      },
      "source": [
        ""
      ],
      "execution_count": null,
      "outputs": []
    }
  ]
}